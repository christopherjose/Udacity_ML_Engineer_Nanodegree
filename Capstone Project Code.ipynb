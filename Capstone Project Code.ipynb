{
 "cells": [
  {
   "cell_type": "code",
   "execution_count": 1609,
   "metadata": {
    "collapsed": false
   },
   "outputs": [
    {
     "name": "stdout",
     "output_type": "stream",
     "text": [
      "This file is located in the following directory: \n",
      "/Users/Work/Desktop/Work/Projects/Machine Learning Engineer Nanodegree/mortgage data\n"
     ]
    }
   ],
   "source": [
    "import os\n",
    "import pandas as pd\n",
    "import pickle\n",
    "import imblearn\n",
    "import numpy as np\n",
    "import sklearn\n",
    "import copy\n",
    "from pandasql import *\n",
    "from pandasql import sqldf\n",
    "sql = lambda q: sqldf(q, globals()) \n",
    "\n",
    "from sklearn.decomposition import PCA\n",
    "from scipy import interp\n",
    "import matplotlib.pyplot as plt\n",
    "import seaborn as sns\n",
    "from sklearn import svm, datasets\n",
    "from sklearn.metrics import roc_curve, auc, f1_score\n",
    "\n",
    "import statsmodels.api as sm\n",
    "from statsmodels.formula.api import ols\n",
    "from sklearn.metrics import classification_report\n",
    "from statsmodels.stats.outliers_influence import variance_inflation_factor\n",
    "from sklearn.ensemble import RandomForestClassifier\n",
    "from sklearn.linear_model import LogisticRegression\n",
    "from sklearn.neighbors import KNeighborsClassifier\n",
    "from sklearn.tree import DecisionTreeClassifier\n",
    "from sklearn.ensemble import AdaBoostClassifier\n",
    "from sklearn.feature_selection import SelectKBest\n",
    "from sklearn.feature_selection import chi2\n",
    "from sklearn import svm\n",
    "from sklearn.naive_bayes import GaussianNB\n",
    "from sklearn.ensemble import GradientBoostingClassifier\n",
    "from sklearn.preprocessing import Imputer\n",
    "from sklearn.model_selection import cross_val_score\n",
    "from sklearn.preprocessing import MinMaxScaler \n",
    "from sklearn.model_selection import KFold\n",
    "from sklearn.model_selection import cross_validate\n",
    "from sklearn.metrics import precision_score, recall_score, accuracy_score, confusion_matrix,f1_score\n",
    "from sklearn.metrics import precision_recall_fscore_support, classification_report, accuracy_score, make_scorer\n",
    "\n",
    "from imblearn.over_sampling import SMOTE\n",
    "from imblearn.pipeline import Pipeline \n",
    "from sklearn.feature_selection import SelectFromModel\n",
    "from sklearn.model_selection import StratifiedKFold\n",
    "from sklearn.model_selection import RandomizedSearchCV\n",
    "from sklearn.model_selection import cross_val_score\n",
    "from sklearn.metrics import roc_auc_score, make_scorer\n",
    "\n",
    "pd.set_option('display.float_format', lambda x: '%.3f' %x)\n",
    "pd.set_option('display.float_format', lambda x: '%.f' %x)\n",
    "from IPython.core.interactiveshell import InteractiveShell\n",
    "InteractiveShell.ast_node_interactivity = \"all\"\n",
    "pd.set_option('display.max_columns', None)  \n",
    "%matplotlib inline\n",
    "pd.options.display.float_format = '{:.3f}'.format\n",
    "\n",
    "import matplotlib.pyplot as plt\n",
    "plt.rcParams['figure.figsize'] = 10,8\n",
    "\n",
    "print('This file is located in the following directory: \\n'+os.getcwd())"
   ]
  },
  {
   "cell_type": "markdown",
   "metadata": {},
   "source": [
    "## Import performance and acquisitions datasets"
   ]
  },
  {
   "cell_type": "code",
   "execution_count": 831,
   "metadata": {
    "collapsed": false
   },
   "outputs": [],
   "source": [
    "file=open('/Users/Work/Downloads/Fannie Mae Loan Files/2016Q1/Performance_2016Q1.txt','r')\n",
    "lines = file.read().split(\"\\n\")\n",
    "temp=[]\n",
    "for j in lines:\n",
    "    temp.append(j.split('|'))\n",
    "perf_2016Q1=pd.DataFrame(temp)\n",
    "\n",
    "file=open('/Users/Work/Downloads/Fannie Mae Loan Files/2016Q1/Acquisition_2016Q1.txt','r')\n",
    "lines = file.read().split(\"\\n\")\n",
    "temp=[]\n",
    "for j in lines:\n",
    "    temp.append(j.split('|'))\n",
    "acq_2016Q1=pd.DataFrame(temp)\n",
    "\n",
    "loc='/Users/Work/Desktop/Work/Projects/Machine Learning Engineer Nanodegree/mortgage data/'\n",
    "\n",
    "Performance_Variables = (\"LOAN_ID\", \"Monthly.Rpt.Prd\", \"Servicer.Name\", \"LAST_RT\", \"LAST_UPB\", \"Loan.Age\", \"Months.To.Legal.Mat\"\n",
    ", \"Adj.Month.To.Mat\", \"Maturity.Date\", \"MSA\", \"Delq.Status\", \"MOD_FLAG\", \"Zero.Bal.Code\",\n",
    "\"ZB_DTE\", \"LPI_DTE\", \"FCC_DTE\",\"DISP_DT\", \"FCC_COST\", \"PP_COST\", \"AR_COST\", \"IE_COST\", \"TAX_COST\", \"NS_PROCS\",\n",
    "\"CE_PROCS\", \"RMW_PROCS\", \"O_PROCS\", \"NON_INT_UPB\", \"PRIN_FORG_UPB_FHFA\", \"REPCH_FLAG\", \"PRIN_FORG_UPB_OTH\", \"TRANSFER_FLAG\")\n",
    "perf_2016Q1.columns=Performance_Variables\n",
    "\n",
    "Acquisition_Variables=(\"LOAN_ID\", \"ORIG_CHN\", \"Seller.Name\", \"ORIG_RT\", \"ORIG_AMT\", \"ORIG_TRM\", \"ORIG_DTE\"\n",
    "                           ,\"FRST_DTE\", \"OLTV\", \"OCLTV\", \"NUM_BO\", \"DTI\", \"CSCORE_B\", \"FTHB_FLG\", \"PURPOSE\", \"PROP_TYP\"\n",
    "                           ,\"NUM_UNIT\", \"OCC_STAT\", \"STATE\", \"ZIP_3\", \"MI_PCT\", \"Product.Type\", \"CSCORE_C\", \"MI_TYPE\", \"RELOCATION_FLG\")\n",
    "acq_2016Q1.columns=Acquisition_Variables"
   ]
  },
  {
   "cell_type": "markdown",
   "metadata": {},
   "source": [
    "## Create outcome variable \"did loan miss at least 3 consecutive payments at some point?\" Yes/no."
   ]
  },
  {
   "cell_type": "code",
   "execution_count": 832,
   "metadata": {
    "collapsed": false
   },
   "outputs": [],
   "source": [
    "defaults=perf_2016Q1[perf_2016Q1['Delq.Status'].isin(['3', '4', '5', '6', '7', '8', '9', '10', '11', '12'] )]\n",
    "defaults=defaults['LOAN_ID'].unique()\n",
    "acq_2016Q1['default']=acq_2016Q1['LOAN_ID'].isin(defaults)"
   ]
  },
  {
   "cell_type": "code",
   "execution_count": 854,
   "metadata": {
    "collapsed": false
   },
   "outputs": [
    {
     "data": {
      "text/plain": [
       "default\n",
       "False    302754\n",
       "True        649\n",
       "dtype: int64"
      ]
     },
     "execution_count": 854,
     "metadata": {},
     "output_type": "execute_result"
    }
   ],
   "source": [
    "acq_2016Q1.groupby('default').size()"
   ]
  },
  {
   "cell_type": "code",
   "execution_count": 855,
   "metadata": {
    "collapsed": false
   },
   "outputs": [
    {
     "data": {
      "text/plain": [
       "True"
      ]
     },
     "execution_count": 855,
     "metadata": {},
     "output_type": "execute_result"
    }
   ],
   "source": [
    "len(acq_2016Q1[acq_2016Q1.default==True])==len(defaults)\n",
    "#check: does the acq_2016Q1 dataset have all defaulted loans?"
   ]
  },
  {
   "cell_type": "markdown",
   "metadata": {},
   "source": [
    "## Drop superfluous row in acq_2016Q1 table"
   ]
  },
  {
   "cell_type": "code",
   "execution_count": 833,
   "metadata": {
    "collapsed": true
   },
   "outputs": [],
   "source": [
    "acq_2016Q1=acq_2016Q1.drop(303402,axis=0) #I don't know how this row got here"
   ]
  },
  {
   "cell_type": "markdown",
   "metadata": {},
   "source": [
    "## Create seasonality field"
   ]
  },
  {
   "cell_type": "code",
   "execution_count": 834,
   "metadata": {
    "collapsed": false
   },
   "outputs": [],
   "source": [
    "temp=[]\n",
    "for x in acq_2016Q1['ORIG_DTE']:\n",
    "    temp.append(str(x)[:2])\n",
    "\n",
    "def season(x):\n",
    "    if x in[1,2,12]:\n",
    "        return \"Winter\" \n",
    "    elif x in [3,4,5]:\n",
    "        return \"Spring\" \n",
    "    elif x in [6,7,8]:\n",
    "        return \"Summer\"\n",
    "    elif x in [9,10,11]:\n",
    "        return \"Autumn\"    \n",
    "    \n",
    "temp=pd.Series(temp)\n",
    "temp=pd.to_numeric(temp)\n",
    "temp=temp.map(season)\n",
    "acq_2016Q1['ORIG_SE']=temp\n",
    "acq_2016Q1=acq_2016Q1.drop('ORIG_DTE',axis=1)"
   ]
  },
  {
   "cell_type": "markdown",
   "metadata": {},
   "source": [
    "## Load acq_2016Q here (prior to dropping state, adding region)"
   ]
  },
  {
   "cell_type": "code",
   "execution_count": 835,
   "metadata": {
    "collapsed": true
   },
   "outputs": [],
   "source": [
    "pickle.dump(acq_2016Q1, open('mortgage_data_acq_2016Q1.sav', 'wb'))"
   ]
  },
  {
   "cell_type": "code",
   "execution_count": 1603,
   "metadata": {
    "collapsed": true
   },
   "outputs": [],
   "source": [
    "acq_2016Q1 = pickle.load(open('mortgage_data_acq_2016Q1.sav', 'rb'))"
   ]
  },
  {
   "cell_type": "markdown",
   "metadata": {},
   "source": [
    "# Create region field"
   ]
  },
  {
   "cell_type": "code",
   "execution_count": 916,
   "metadata": {
    "collapsed": false
   },
   "outputs": [
    {
     "data": {
      "text/plain": [
       "49    PR\n",
       "52    VI\n",
       "53    GU\n",
       "dtype: object"
      ]
     },
     "execution_count": 916,
     "metadata": {},
     "output_type": "execute_result"
    }
   ],
   "source": [
    "state_mapping = pd.read_csv(\"/Users/Work/Desktop/Work/Projects/Datasets/state_mapping_data.csv\")\n",
    "state_mapping_dict = dict(zip(state_mapping['State Code'], state_mapping['Region']))\n",
    "data_states=pd.Series(acq_2016Q1['STATE'].unique())\n",
    "dict_states=pd.Series(['AK', 'AL', 'AR', 'AZ', 'CA', 'CO', 'CT', 'DC', 'DE', \n",
    "                       'FL', 'GA', 'HI', 'IA', 'ID', 'IL', 'IN', 'KS', 'KY',\n",
    "                       'LA', 'MA', 'MD', 'ME', 'MI', 'MN', 'MO', 'MS', 'MT',\n",
    "                       'NC', 'ND', 'NE', 'NH', 'NJ', 'NM', 'NV', 'NY', 'OH', \n",
    "                       'OK', 'OR', 'PA', 'RI', 'SC', 'SD', 'TN', 'TX', 'UT', \n",
    "                       'VA', 'VT', 'WA', 'WI', 'WV', 'WY'])\n",
    "not_in_dict=data_states.isin(dict_states)==False\n",
    "data_states[not_in_dict]\n",
    "state_mapping_dict['PR']='South'\n",
    "state_mapping_dict['VI']='South'\n",
    "state_mapping_dict['GU']='South'\n",
    "acq_2016Q1['REGION']=acq_2016Q1['STATE'].map(state_mapping_dict)\n",
    "acq_2016Q1=acq_2016Q1.drop(['STATE'],axis=1)"
   ]
  },
  {
   "cell_type": "markdown",
   "metadata": {},
   "source": [
    "## Make final dataframe"
   ]
  },
  {
   "cell_type": "code",
   "execution_count": 917,
   "metadata": {
    "collapsed": false
   },
   "outputs": [],
   "source": [
    "df=acq_2016Q1[['ORIG_CHN','ORIG_RT','ORIG_AMT', 'ORIG_TRM','ORIG_SE', 'OLTV', 'PURPOSE', \n",
    "    'NUM_BO', 'DTI','CSCORE_B','FTHB_FLG', 'PROP_TYP', 'NUM_UNIT', 'OCC_STAT', \n",
    "    'MI_PCT', 'CSCORE_C','MI_TYPE', 'RELOCATION_FLG','REGION','default']]"
   ]
  },
  {
   "cell_type": "markdown",
   "metadata": {},
   "source": [
    "### Remove 3 predictors with too many missing values"
   ]
  },
  {
   "cell_type": "code",
   "execution_count": 918,
   "metadata": {
    "collapsed": false
   },
   "outputs": [
    {
     "data": {
      "text/plain": [
       "ORIG_CHN               0\n",
       "ORIG_RT                0\n",
       "ORIG_AMT               0\n",
       "ORIG_TRM               0\n",
       "ORIG_SE                0\n",
       "OLTV                   0\n",
       "PURPOSE                0\n",
       "NUM_BO                 0\n",
       "DTI                   72\n",
       "CSCORE_B             114\n",
       "FTHB_FLG               0\n",
       "PROP_TYP               0\n",
       "NUM_UNIT               0\n",
       "OCC_STAT               0\n",
       "MI_PCT            204329\n",
       "CSCORE_C          160762\n",
       "MI_TYPE           204329\n",
       "RELOCATION_FLG         0\n",
       "REGION                 0\n",
       "default                0\n",
       "dtype: int64"
      ]
     },
     "execution_count": 918,
     "metadata": {},
     "output_type": "execute_result"
    }
   ],
   "source": [
    "#missing values check\n",
    "df=df.replace('',np.NaN)\n",
    "df_null_count=df.isnull().sum(axis=0)\n",
    "df_null_count \n",
    "# % of each predictor's values that are missing"
   ]
  },
  {
   "cell_type": "code",
   "execution_count": 919,
   "metadata": {
    "collapsed": false
   },
   "outputs": [],
   "source": [
    "df=df.drop(['MI_PCT','CSCORE_C','MI_TYPE'],axis=1)\n",
    "pickle.dump(df, open('mortgage_data.sav', 'wb'))"
   ]
  },
  {
   "cell_type": "markdown",
   "metadata": {},
   "source": [
    "## DON'T LOAD THIS ONE:\n",
    "Load dataframe (pre-feature scaling, one-hot-encoding, etc),        Wrangling done thus far: season variable, removed predictors with too many missing values"
   ]
  },
  {
   "cell_type": "code",
   "execution_count": 907,
   "metadata": {
    "collapsed": false
   },
   "outputs": [],
   "source": [
    "df = pickle.load(open('mortgage_data.sav', 'rb')) #includes ORIG_TRM"
   ]
  },
  {
   "cell_type": "markdown",
   "metadata": {},
   "source": [
    "## Working off just a subset of the data"
   ]
  },
  {
   "cell_type": "code",
   "execution_count": 922,
   "metadata": {
    "collapsed": false
   },
   "outputs": [
    {
     "data": {
      "text/plain": [
       "False    4351\n",
       "True      649\n",
       "Name: default, dtype: int64"
      ]
     },
     "execution_count": 922,
     "metadata": {},
     "output_type": "execute_result"
    }
   ],
   "source": [
    "#make df of just observations with missing values\n",
    "#make df with observations with missing values removed\n",
    "#do this to append all missing observations to df_downsampled so i can work with missing data!\n",
    "missing_indices=df[df.CSCORE_B.isnull() | df.DTI.isnull()].index.values\n",
    "obs_with_missing=df.iloc[missing_indices,]\n",
    "df_missing_removed=df.drop(missing_indices,axis=0)\n",
    "\n",
    "from sklearn.utils import resample\n",
    "df_majority = df_missing_removed[df_missing_removed.default==0]\n",
    "df_minority = df_missing_removed[df_missing_removed.default==1]\n",
    "df_majority_downsampled = resample(df_majority, \n",
    "                                 replace=False,    # sample without replacement\n",
    "                                 n_samples=4165,     # to match minority class\n",
    "                                 random_state=123) # reproducible results\n",
    "df_downsampled = pd.concat([df_majority_downsampled, df_minority])\n",
    "df_downsampled=pd.concat([df_downsampled,obs_with_missing],axis=0)\n",
    "df_downsampled.default.value_counts()\n",
    "\n",
    "pickle.dump(df_downsampled, open('mortgage_data_downsampled.sav', 'wb'))"
   ]
  },
  {
   "cell_type": "code",
   "execution_count": 923,
   "metadata": {
    "collapsed": false
   },
   "outputs": [],
   "source": [
    "df_downsampled = pickle.load(open('mortgage_data_downsampled.sav', 'rb')) #includes ORIG_TRM\n",
    "#this is the same as the loaded dataframe below"
   ]
  },
  {
   "cell_type": "markdown",
   "metadata": {},
   "source": [
    "# LOAD THIS ONE! \n",
    "Downsampled dataframe with only 5000 observations and all 649 defaults (loans defaulting for 3 consecutive months or more)"
   ]
  },
  {
   "cell_type": "code",
   "execution_count": 1587,
   "metadata": {
    "collapsed": true
   },
   "outputs": [
    {
     "data": {
      "text/plain": [
       "(5000, 17)"
      ]
     },
     "execution_count": 1587,
     "metadata": {},
     "output_type": "execute_result"
    },
    {
     "data": {
      "text/plain": [
       "ORIG_CHN          object\n",
       "ORIG_RT           object\n",
       "ORIG_AMT          object\n",
       "ORIG_TRM          object\n",
       "ORIG_SE           object\n",
       "OLTV              object\n",
       "PURPOSE           object\n",
       "NUM_BO            object\n",
       "DTI               object\n",
       "CSCORE_B          object\n",
       "FTHB_FLG          object\n",
       "PROP_TYP          object\n",
       "NUM_UNIT          object\n",
       "OCC_STAT          object\n",
       "RELOCATION_FLG    object\n",
       "REGION            object\n",
       "default             bool\n",
       "dtype: object"
      ]
     },
     "execution_count": 1587,
     "metadata": {},
     "output_type": "execute_result"
    },
    {
     "data": {
      "text/plain": [
       "ORIG_CHN           object\n",
       "ORIG_RT           float64\n",
       "ORIG_AMT            int64\n",
       "ORIG_TRM            int64\n",
       "ORIG_SE            object\n",
       "OLTV                int64\n",
       "PURPOSE            object\n",
       "NUM_BO              int64\n",
       "DTI               float64\n",
       "CSCORE_B          float64\n",
       "FTHB_FLG           object\n",
       "PROP_TYP           object\n",
       "NUM_UNIT            int64\n",
       "OCC_STAT           object\n",
       "RELOCATION_FLG     object\n",
       "REGION             object\n",
       "default              bool\n",
       "dtype: object"
      ]
     },
     "execution_count": 1587,
     "metadata": {},
     "output_type": "execute_result"
    }
   ],
   "source": [
    "df = pickle.load(open('mortgage_data_downsampled.sav', 'rb')).reset_index().drop('index',axis=1)\n",
    "\n",
    "df.shape\n",
    "df.dtypes #need to convert numeric columns to numeric data type to produce correlations\n",
    "df[['ORIG_RT','ORIG_AMT','ORIG_TRM','OLTV','DTI',\\\n",
    "    'NUM_BO','CSCORE_B','NUM_UNIT']] =\\\n",
    "    df[['ORIG_RT','ORIG_AMT','ORIG_TRM','OLTV','DTI',\\\n",
    "    'NUM_BO','CSCORE_B','NUM_UNIT']].apply(pd.to_numeric)\n",
    "df.dtypes #numeric predictors are now converted!"
   ]
  },
  {
   "cell_type": "markdown",
   "metadata": {},
   "source": [
    "## Exploratory Data Analysis"
   ]
  },
  {
   "cell_type": "markdown",
   "metadata": {},
   "source": [
    "### Numeric Predictor Correlations"
   ]
  },
  {
   "cell_type": "markdown",
   "metadata": {},
   "source": [
    "Multicollinearity, where predictors are highly correlated, can distort model results, such as variable importances.  Numeric predictors appear to all have weak correlations (<.3), so this does not appear to be a problem."
   ]
  },
  {
   "cell_type": "code",
   "execution_count": 1588,
   "metadata": {
    "collapsed": false,
    "scrolled": true
   },
   "outputs": [
    {
     "data": {
      "text/html": [
       "<div>\n",
       "<table border=\"1\" class=\"dataframe\">\n",
       "  <thead>\n",
       "    <tr style=\"text-align: right;\">\n",
       "      <th></th>\n",
       "      <th>ORIG_RT</th>\n",
       "      <th>ORIG_AMT</th>\n",
       "      <th>ORIG_TRM</th>\n",
       "      <th>OLTV</th>\n",
       "      <th>NUM_BO</th>\n",
       "      <th>DTI</th>\n",
       "      <th>CSCORE_B</th>\n",
       "      <th>NUM_UNIT</th>\n",
       "      <th>default</th>\n",
       "    </tr>\n",
       "  </thead>\n",
       "  <tbody>\n",
       "    <tr>\n",
       "      <th>ORIG_RT</th>\n",
       "      <td>1.000</td>\n",
       "      <td>-0.143</td>\n",
       "      <td>-0.008</td>\n",
       "      <td>0.104</td>\n",
       "      <td>-0.107</td>\n",
       "      <td>0.156</td>\n",
       "      <td>-0.423</td>\n",
       "      <td>0.143</td>\n",
       "      <td>0.222</td>\n",
       "    </tr>\n",
       "    <tr>\n",
       "      <th>ORIG_AMT</th>\n",
       "      <td>-0.143</td>\n",
       "      <td>1.000</td>\n",
       "      <td>-0.013</td>\n",
       "      <td>0.015</td>\n",
       "      <td>0.156</td>\n",
       "      <td>0.074</td>\n",
       "      <td>0.056</td>\n",
       "      <td>0.137</td>\n",
       "      <td>-0.041</td>\n",
       "    </tr>\n",
       "    <tr>\n",
       "      <th>ORIG_TRM</th>\n",
       "      <td>-0.008</td>\n",
       "      <td>-0.013</td>\n",
       "      <td>1.000</td>\n",
       "      <td>0.000</td>\n",
       "      <td>-0.009</td>\n",
       "      <td>0.025</td>\n",
       "      <td>-0.016</td>\n",
       "      <td>0.007</td>\n",
       "      <td>0.009</td>\n",
       "    </tr>\n",
       "    <tr>\n",
       "      <th>OLTV</th>\n",
       "      <td>0.104</td>\n",
       "      <td>0.015</td>\n",
       "      <td>0.000</td>\n",
       "      <td>1.000</td>\n",
       "      <td>-0.025</td>\n",
       "      <td>0.072</td>\n",
       "      <td>-0.091</td>\n",
       "      <td>-0.101</td>\n",
       "      <td>0.100</td>\n",
       "    </tr>\n",
       "    <tr>\n",
       "      <th>NUM_BO</th>\n",
       "      <td>-0.107</td>\n",
       "      <td>0.156</td>\n",
       "      <td>-0.009</td>\n",
       "      <td>-0.025</td>\n",
       "      <td>1.000</td>\n",
       "      <td>-0.093</td>\n",
       "      <td>0.146</td>\n",
       "      <td>-0.036</td>\n",
       "      <td>-0.134</td>\n",
       "    </tr>\n",
       "    <tr>\n",
       "      <th>DTI</th>\n",
       "      <td>0.156</td>\n",
       "      <td>0.074</td>\n",
       "      <td>0.025</td>\n",
       "      <td>0.072</td>\n",
       "      <td>-0.093</td>\n",
       "      <td>1.000</td>\n",
       "      <td>-0.195</td>\n",
       "      <td>0.002</td>\n",
       "      <td>0.130</td>\n",
       "    </tr>\n",
       "    <tr>\n",
       "      <th>CSCORE_B</th>\n",
       "      <td>-0.423</td>\n",
       "      <td>0.056</td>\n",
       "      <td>-0.016</td>\n",
       "      <td>-0.091</td>\n",
       "      <td>0.146</td>\n",
       "      <td>-0.195</td>\n",
       "      <td>1.000</td>\n",
       "      <td>0.022</td>\n",
       "      <td>-0.355</td>\n",
       "    </tr>\n",
       "    <tr>\n",
       "      <th>NUM_UNIT</th>\n",
       "      <td>0.143</td>\n",
       "      <td>0.137</td>\n",
       "      <td>0.007</td>\n",
       "      <td>-0.101</td>\n",
       "      <td>-0.036</td>\n",
       "      <td>0.002</td>\n",
       "      <td>0.022</td>\n",
       "      <td>1.000</td>\n",
       "      <td>-0.033</td>\n",
       "    </tr>\n",
       "    <tr>\n",
       "      <th>default</th>\n",
       "      <td>0.222</td>\n",
       "      <td>-0.041</td>\n",
       "      <td>0.009</td>\n",
       "      <td>0.100</td>\n",
       "      <td>-0.134</td>\n",
       "      <td>0.130</td>\n",
       "      <td>-0.355</td>\n",
       "      <td>-0.033</td>\n",
       "      <td>1.000</td>\n",
       "    </tr>\n",
       "  </tbody>\n",
       "</table>\n",
       "</div>"
      ],
      "text/plain": [
       "          ORIG_RT  ORIG_AMT  ORIG_TRM   OLTV  NUM_BO    DTI  CSCORE_B  \\\n",
       "ORIG_RT     1.000    -0.143    -0.008  0.104  -0.107  0.156    -0.423   \n",
       "ORIG_AMT   -0.143     1.000    -0.013  0.015   0.156  0.074     0.056   \n",
       "ORIG_TRM   -0.008    -0.013     1.000  0.000  -0.009  0.025    -0.016   \n",
       "OLTV        0.104     0.015     0.000  1.000  -0.025  0.072    -0.091   \n",
       "NUM_BO     -0.107     0.156    -0.009 -0.025   1.000 -0.093     0.146   \n",
       "DTI         0.156     0.074     0.025  0.072  -0.093  1.000    -0.195   \n",
       "CSCORE_B   -0.423     0.056    -0.016 -0.091   0.146 -0.195     1.000   \n",
       "NUM_UNIT    0.143     0.137     0.007 -0.101  -0.036  0.002     0.022   \n",
       "default     0.222    -0.041     0.009  0.100  -0.134  0.130    -0.355   \n",
       "\n",
       "          NUM_UNIT  default  \n",
       "ORIG_RT      0.143    0.222  \n",
       "ORIG_AMT     0.137   -0.041  \n",
       "ORIG_TRM     0.007    0.009  \n",
       "OLTV        -0.101    0.100  \n",
       "NUM_BO      -0.036   -0.134  \n",
       "DTI          0.002    0.130  \n",
       "CSCORE_B     0.022   -0.355  \n",
       "NUM_UNIT     1.000   -0.033  \n",
       "default     -0.033    1.000  "
      ]
     },
     "execution_count": 1588,
     "metadata": {},
     "output_type": "execute_result"
    }
   ],
   "source": [
    "df.corr()"
   ]
  },
  {
   "cell_type": "code",
   "execution_count": 1589,
   "metadata": {
    "collapsed": false
   },
   "outputs": [
    {
     "data": {
      "text/plain": [
       "<matplotlib.axes._subplots.AxesSubplot at 0x176b25cc0>"
      ]
     },
     "execution_count": 1589,
     "metadata": {},
     "output_type": "execute_result"
    },
    {
     "data": {
      "text/plain": [
       "<matplotlib.axes._subplots.AxesSubplot at 0x176b5d828>"
      ]
     },
     "execution_count": 1589,
     "metadata": {},
     "output_type": "execute_result"
    },
    {
     "data": {
      "image/png": "[encoded data removed]",
      "text/plain": [
       "<matplotlib.figure.Figure at 0x17882eac8>"
      ]
     },
     "metadata": {},
     "output_type": "display_data"
    }
   ],
   "source": [
    "#df_original.boxplot(column='CSCORE_B',by='default')\n",
    "df_original=copy.deepcopy(df)\n",
    "fig, axes = plt.subplots(1,2,figsize=(13,5))\n",
    "sns.boxplot(x=\"default\", y=\"CSCORE_B\", data=df_original,ax=axes[0])\n",
    "sns.boxplot(x=\"default\", y=\"ORIG_RT\", data=df_original,ax=axes[1])"
   ]
  },
  {
   "cell_type": "code",
   "execution_count": 1590,
   "metadata": {
    "collapsed": false
   },
   "outputs": [
    {
     "name": "stdout",
     "output_type": "stream",
     "text": [
      "ORIG_RT     5.452 %\n",
      "ORIG_AMT     -6.172 %\n",
      "ORIG_TRM     0.01 %\n",
      "OLTV     5.852 %\n",
      "NUM_BO     -14.176 %\n",
      "DTI     9.603 %\n",
      "CSCORE_B     -7.042 %\n",
      "NUM_UNIT     -2.653 %\n"
     ]
    }
   ],
   "source": [
    "for j in range(0,8):\n",
    "    print(df.mean().index.values[j],\"   \", round(((df.groupby('default').mean().iloc[1,j]\n",
    "         -df.groupby('default').mean().iloc[0,j])/df.mean().iloc[j])*100,3),\"%\")"
   ]
  },
  {
   "cell_type": "code",
   "execution_count": 1591,
   "metadata": {
    "collapsed": false
   },
   "outputs": [
    {
     "data": {
      "text/html": [
       "<div>\n",
       "<table border=\"1\" class=\"dataframe\">\n",
       "  <thead>\n",
       "    <tr style=\"text-align: right;\">\n",
       "      <th></th>\n",
       "      <th>ORIG_RT</th>\n",
       "      <th>ORIG_AMT</th>\n",
       "      <th>ORIG_TRM</th>\n",
       "      <th>OLTV</th>\n",
       "      <th>NUM_BO</th>\n",
       "      <th>DTI</th>\n",
       "      <th>CSCORE_B</th>\n",
       "      <th>NUM_UNIT</th>\n",
       "    </tr>\n",
       "    <tr>\n",
       "      <th>default</th>\n",
       "      <th></th>\n",
       "      <th></th>\n",
       "      <th></th>\n",
       "      <th></th>\n",
       "      <th></th>\n",
       "      <th></th>\n",
       "      <th></th>\n",
       "      <th></th>\n",
       "    </tr>\n",
       "  </thead>\n",
       "  <tbody>\n",
       "    <tr>\n",
       "      <th>False</th>\n",
       "      <td>4.210</td>\n",
       "      <td>239472.305</td>\n",
       "      <td>359.928</td>\n",
       "      <td>76.906</td>\n",
       "      <td>1.471</td>\n",
       "      <td>34.172</td>\n",
       "      <td>751.262</td>\n",
       "      <td>1.043</td>\n",
       "    </tr>\n",
       "    <tr>\n",
       "      <th>True</th>\n",
       "      <td>4.441</td>\n",
       "      <td>224808.937</td>\n",
       "      <td>359.963</td>\n",
       "      <td>81.441</td>\n",
       "      <td>1.267</td>\n",
       "      <td>37.496</td>\n",
       "      <td>698.847</td>\n",
       "      <td>1.015</td>\n",
       "    </tr>\n",
       "  </tbody>\n",
       "</table>\n",
       "</div>"
      ],
      "text/plain": [
       "         ORIG_RT   ORIG_AMT  ORIG_TRM   OLTV  NUM_BO    DTI  CSCORE_B  \\\n",
       "default                                                                 \n",
       "False      4.210 239472.305   359.928 76.906   1.471 34.172   751.262   \n",
       "True       4.441 224808.937   359.963 81.441   1.267 37.496   698.847   \n",
       "\n",
       "         NUM_UNIT  \n",
       "default            \n",
       "False       1.043  \n",
       "True        1.015  "
      ]
     },
     "execution_count": 1591,
     "metadata": {},
     "output_type": "execute_result"
    }
   ],
   "source": [
    "df.groupby('default').mean()"
   ]
  },
  {
   "cell_type": "markdown",
   "metadata": {},
   "source": [
    "For each predictor, I inspect above whether there is a sizable difference between its mean value for each value of the outcome variable, meaning for loans that eventually default for 3 consecutive months or more and loans that do not.  \n",
    "\n",
    "Most predictors appear to have values that are fairly close, regardless of the outcome's level.  Origination rate (ORIG_RT), Origination Loan-to-Value (OLTV), and Borrower Credit Score (CSCORE_B), might have sizable enough differences to offer value as predictors.  The average credit score for defaulters, 699, is typically regarded as indicating \"good credit\", while the average credit score for non-defaulters, is typically regarded as indicating \"excellent credit\" (source: https://www.nerdwallet.com/blog/finance/credit-score-ranges-and-how-to-improve/). This apparent difference in the credit score quality between defaulters and non-defaulters is indicative of a predictive relationship between credit score and defaulting.  "
   ]
  },
  {
   "cell_type": "markdown",
   "metadata": {},
   "source": [
    "### Categorical Predictor Correlations"
   ]
  },
  {
   "cell_type": "markdown",
   "metadata": {},
   "source": [
    "For each categorical predictor, I inspect whether there is a sizable difference between each level’s proportion of observations that defaulted.  If a certain level has many defaults compared with other levels, then when the predictor has as a value that level, then it is more likely that the outcome will have value 'default'."
   ]
  },
  {
   "cell_type": "markdown",
   "metadata": {},
   "source": [
    "ORIG_SE and RELOCATION_FLG, appear to offer the biggest differences between the proportion of defaults among their levels.  For predictor ORIG_SE, loans originated during the Autumn saw 16.5% of their loans as eventually defaulting, compared to loans that originated in Spring, which only saw 8% of their loans defaulting.  Each of these levels had a sizable number of originated loans, thus giving greater credibility to these default percentages.  For predictor RELOCATION_FLG, which represents mortgages that companies make available to relocating employees, only 1.3% of these mortgages default, compared with all other mortgages (non-relocation mortgages), which default at a rate of 13%.  "
   ]
  },
  {
   "cell_type": "code",
   "execution_count": 1592,
   "metadata": {
    "collapsed": false
   },
   "outputs": [
    {
     "data": {
      "text/html": [
       "<div>\n",
       "<table border=\"1\" class=\"dataframe\">\n",
       "  <thead>\n",
       "    <tr style=\"text-align: right;\">\n",
       "      <th>ORIG_CHN</th>\n",
       "      <th>B</th>\n",
       "      <th>C</th>\n",
       "      <th>R</th>\n",
       "    </tr>\n",
       "    <tr>\n",
       "      <th>default</th>\n",
       "      <th></th>\n",
       "      <th></th>\n",
       "      <th></th>\n",
       "    </tr>\n",
       "  </thead>\n",
       "  <tbody>\n",
       "    <tr>\n",
       "      <th>False</th>\n",
       "      <td>445</td>\n",
       "      <td>1305</td>\n",
       "      <td>2601</td>\n",
       "    </tr>\n",
       "    <tr>\n",
       "      <th>True</th>\n",
       "      <td>62</td>\n",
       "      <td>232</td>\n",
       "      <td>355</td>\n",
       "    </tr>\n",
       "  </tbody>\n",
       "</table>\n",
       "</div>"
      ],
      "text/plain": [
       "ORIG_CHN    B     C     R\n",
       "default                  \n",
       "False     445  1305  2601\n",
       "True       62   232   355"
      ]
     },
     "execution_count": 1592,
     "metadata": {},
     "output_type": "execute_result"
    },
    {
     "name": "stdout",
     "output_type": "stream",
     "text": [
      "B 0.1223\n",
      "C 0.1509\n",
      "R 0.1201\n"
     ]
    },
    {
     "data": {
      "text/html": [
       "<div>\n",
       "<table border=\"1\" class=\"dataframe\">\n",
       "  <thead>\n",
       "    <tr style=\"text-align: right;\">\n",
       "      <th>ORIG_SE</th>\n",
       "      <th>Autumn</th>\n",
       "      <th>Spring</th>\n",
       "      <th>Summer</th>\n",
       "      <th>Winter</th>\n",
       "    </tr>\n",
       "    <tr>\n",
       "      <th>default</th>\n",
       "      <th></th>\n",
       "      <th></th>\n",
       "      <th></th>\n",
       "      <th></th>\n",
       "    </tr>\n",
       "  </thead>\n",
       "  <tbody>\n",
       "    <tr>\n",
       "      <th>False</th>\n",
       "      <td>496</td>\n",
       "      <td>372</td>\n",
       "      <td>13</td>\n",
       "      <td>3470</td>\n",
       "    </tr>\n",
       "    <tr>\n",
       "      <th>True</th>\n",
       "      <td>98</td>\n",
       "      <td>36</td>\n",
       "      <td>6</td>\n",
       "      <td>509</td>\n",
       "    </tr>\n",
       "  </tbody>\n",
       "</table>\n",
       "</div>"
      ],
      "text/plain": [
       "ORIG_SE  Autumn  Spring  Summer  Winter\n",
       "default                                \n",
       "False       496     372      13    3470\n",
       "True         98      36       6     509"
      ]
     },
     "execution_count": 1592,
     "metadata": {},
     "output_type": "execute_result"
    },
    {
     "name": "stdout",
     "output_type": "stream",
     "text": [
      "Autumn 0.165\n",
      "Spring 0.0882\n",
      "Summer 0.3158\n",
      "Winter 0.1279\n"
     ]
    },
    {
     "data": {
      "text/html": [
       "<div>\n",
       "<table border=\"1\" class=\"dataframe\">\n",
       "  <thead>\n",
       "    <tr style=\"text-align: right;\">\n",
       "      <th>PURPOSE</th>\n",
       "      <th>C</th>\n",
       "      <th>P</th>\n",
       "      <th>R</th>\n",
       "    </tr>\n",
       "    <tr>\n",
       "      <th>default</th>\n",
       "      <th></th>\n",
       "      <th></th>\n",
       "      <th></th>\n",
       "    </tr>\n",
       "  </thead>\n",
       "  <tbody>\n",
       "    <tr>\n",
       "      <th>False</th>\n",
       "      <td>835</td>\n",
       "      <td>2615</td>\n",
       "      <td>901</td>\n",
       "    </tr>\n",
       "    <tr>\n",
       "      <th>True</th>\n",
       "      <td>140</td>\n",
       "      <td>395</td>\n",
       "      <td>114</td>\n",
       "    </tr>\n",
       "  </tbody>\n",
       "</table>\n",
       "</div>"
      ],
      "text/plain": [
       "PURPOSE    C     P    R\n",
       "default                \n",
       "False    835  2615  901\n",
       "True     140   395  114"
      ]
     },
     "execution_count": 1592,
     "metadata": {},
     "output_type": "execute_result"
    },
    {
     "name": "stdout",
     "output_type": "stream",
     "text": [
      "C 0.1436\n",
      "P 0.1312\n",
      "R 0.1123\n"
     ]
    },
    {
     "data": {
      "text/html": [
       "<div>\n",
       "<table border=\"1\" class=\"dataframe\">\n",
       "  <thead>\n",
       "    <tr style=\"text-align: right;\">\n",
       "      <th>FTHB_FLG</th>\n",
       "      <th>N</th>\n",
       "      <th>Y</th>\n",
       "    </tr>\n",
       "    <tr>\n",
       "      <th>default</th>\n",
       "      <th></th>\n",
       "      <th></th>\n",
       "    </tr>\n",
       "  </thead>\n",
       "  <tbody>\n",
       "    <tr>\n",
       "      <th>False</th>\n",
       "      <td>3316</td>\n",
       "      <td>1035</td>\n",
       "    </tr>\n",
       "    <tr>\n",
       "      <th>True</th>\n",
       "      <td>463</td>\n",
       "      <td>186</td>\n",
       "    </tr>\n",
       "  </tbody>\n",
       "</table>\n",
       "</div>"
      ],
      "text/plain": [
       "FTHB_FLG     N     Y\n",
       "default             \n",
       "False     3316  1035\n",
       "True       463   186"
      ]
     },
     "execution_count": 1592,
     "metadata": {},
     "output_type": "execute_result"
    },
    {
     "name": "stdout",
     "output_type": "stream",
     "text": [
      "N 0.1225\n",
      "Y 0.1523\n"
     ]
    },
    {
     "data": {
      "text/html": [
       "<div>\n",
       "<table border=\"1\" class=\"dataframe\">\n",
       "  <thead>\n",
       "    <tr style=\"text-align: right;\">\n",
       "      <th>PROP_TYP</th>\n",
       "      <th>CO</th>\n",
       "      <th>CP</th>\n",
       "      <th>MH</th>\n",
       "      <th>PU</th>\n",
       "      <th>SF</th>\n",
       "    </tr>\n",
       "    <tr>\n",
       "      <th>default</th>\n",
       "      <th></th>\n",
       "      <th></th>\n",
       "      <th></th>\n",
       "      <th></th>\n",
       "      <th></th>\n",
       "    </tr>\n",
       "  </thead>\n",
       "  <tbody>\n",
       "    <tr>\n",
       "      <th>False</th>\n",
       "      <td>444</td>\n",
       "      <td>14</td>\n",
       "      <td>27</td>\n",
       "      <td>1244</td>\n",
       "      <td>2622</td>\n",
       "    </tr>\n",
       "    <tr>\n",
       "      <th>True</th>\n",
       "      <td>48</td>\n",
       "      <td>0</td>\n",
       "      <td>7</td>\n",
       "      <td>166</td>\n",
       "      <td>428</td>\n",
       "    </tr>\n",
       "  </tbody>\n",
       "</table>\n",
       "</div>"
      ],
      "text/plain": [
       "PROP_TYP   CO  CP  MH    PU    SF\n",
       "default                          \n",
       "False     444  14  27  1244  2622\n",
       "True       48   0   7   166   428"
      ]
     },
     "execution_count": 1592,
     "metadata": {},
     "output_type": "execute_result"
    },
    {
     "name": "stdout",
     "output_type": "stream",
     "text": [
      "CO 0.0976\n",
      "CP 0.0\n",
      "MH 0.2059\n",
      "PU 0.1177\n",
      "SF 0.1403\n"
     ]
    },
    {
     "data": {
      "text/html": [
       "<div>\n",
       "<table border=\"1\" class=\"dataframe\">\n",
       "  <thead>\n",
       "    <tr style=\"text-align: right;\">\n",
       "      <th>OCC_STAT</th>\n",
       "      <th>I</th>\n",
       "      <th>P</th>\n",
       "      <th>S</th>\n",
       "    </tr>\n",
       "    <tr>\n",
       "      <th>default</th>\n",
       "      <th></th>\n",
       "      <th></th>\n",
       "      <th></th>\n",
       "    </tr>\n",
       "  </thead>\n",
       "  <tbody>\n",
       "    <tr>\n",
       "      <th>False</th>\n",
       "      <td>402</td>\n",
       "      <td>3773</td>\n",
       "      <td>176</td>\n",
       "    </tr>\n",
       "    <tr>\n",
       "      <th>True</th>\n",
       "      <td>34</td>\n",
       "      <td>597</td>\n",
       "      <td>18</td>\n",
       "    </tr>\n",
       "  </tbody>\n",
       "</table>\n",
       "</div>"
      ],
      "text/plain": [
       "OCC_STAT    I     P    S\n",
       "default                 \n",
       "False     402  3773  176\n",
       "True       34   597   18"
      ]
     },
     "execution_count": 1592,
     "metadata": {},
     "output_type": "execute_result"
    },
    {
     "name": "stdout",
     "output_type": "stream",
     "text": [
      "I 0.078\n",
      "P 0.1366\n",
      "S 0.0928\n"
     ]
    },
    {
     "data": {
      "text/html": [
       "<div>\n",
       "<table border=\"1\" class=\"dataframe\">\n",
       "  <thead>\n",
       "    <tr style=\"text-align: right;\">\n",
       "      <th>RELOCATION_FLG</th>\n",
       "      <th>N</th>\n",
       "      <th>Y</th>\n",
       "    </tr>\n",
       "    <tr>\n",
       "      <th>default</th>\n",
       "      <th></th>\n",
       "      <th></th>\n",
       "    </tr>\n",
       "  </thead>\n",
       "  <tbody>\n",
       "    <tr>\n",
       "      <th>False</th>\n",
       "      <td>4275</td>\n",
       "      <td>76</td>\n",
       "    </tr>\n",
       "    <tr>\n",
       "      <th>True</th>\n",
       "      <td>648</td>\n",
       "      <td>1</td>\n",
       "    </tr>\n",
       "  </tbody>\n",
       "</table>\n",
       "</div>"
      ],
      "text/plain": [
       "RELOCATION_FLG     N   Y\n",
       "default                 \n",
       "False           4275  76\n",
       "True             648   1"
      ]
     },
     "execution_count": 1592,
     "metadata": {},
     "output_type": "execute_result"
    },
    {
     "name": "stdout",
     "output_type": "stream",
     "text": [
      "N 0.1316\n",
      "Y 0.013\n"
     ]
    },
    {
     "data": {
      "text/html": [
       "<div>\n",
       "<table border=\"1\" class=\"dataframe\">\n",
       "  <thead>\n",
       "    <tr style=\"text-align: right;\">\n",
       "      <th>REGION</th>\n",
       "      <th>Midwest</th>\n",
       "      <th>Northeast</th>\n",
       "      <th>South</th>\n",
       "      <th>West</th>\n",
       "    </tr>\n",
       "    <tr>\n",
       "      <th>default</th>\n",
       "      <th></th>\n",
       "      <th></th>\n",
       "      <th></th>\n",
       "      <th></th>\n",
       "    </tr>\n",
       "  </thead>\n",
       "  <tbody>\n",
       "    <tr>\n",
       "      <th>False</th>\n",
       "      <td>766</td>\n",
       "      <td>585</td>\n",
       "      <td>1391</td>\n",
       "      <td>1609</td>\n",
       "    </tr>\n",
       "    <tr>\n",
       "      <th>True</th>\n",
       "      <td>136</td>\n",
       "      <td>76</td>\n",
       "      <td>236</td>\n",
       "      <td>201</td>\n",
       "    </tr>\n",
       "  </tbody>\n",
       "</table>\n",
       "</div>"
      ],
      "text/plain": [
       "REGION   Midwest  Northeast  South  West\n",
       "default                                 \n",
       "False        766        585   1391  1609\n",
       "True         136         76    236   201"
      ]
     },
     "execution_count": 1592,
     "metadata": {},
     "output_type": "execute_result"
    },
    {
     "name": "stdout",
     "output_type": "stream",
     "text": [
      "Midwest 0.1508\n",
      "Northeast 0.115\n",
      "South 0.1451\n",
      "West 0.111\n"
     ]
    }
   ],
   "source": [
    "df_orig_categoricals=df_original.drop(['ORIG_RT','ORIG_AMT','ORIG_TRM','OLTV','DTI','NUM_BO','CSCORE_B','NUM_UNIT'],axis=1)\n",
    "\n",
    "for j in range(0,8):\n",
    "    ct=pd.crosstab(index=df_orig_categoricals.default,columns=df_orig_categoricals.iloc[:,j])\n",
    "    ct\n",
    "    for j in range(len(ct.columns)):\n",
    "        print(ct.iloc[:,j].name, round(ct.iloc[1,j]/np.sum(ct.iloc[:,j]),4))"
   ]
  },
  {
   "cell_type": "code",
   "execution_count": 1593,
   "metadata": {
    "collapsed": false
   },
   "outputs": [
    {
     "data": {
      "text/html": [
       "<div>\n",
       "<table border=\"1\" class=\"dataframe\">\n",
       "  <thead>\n",
       "    <tr style=\"text-align: right;\">\n",
       "      <th></th>\n",
       "      <th>ORIG_RT</th>\n",
       "      <th>ORIG_AMT</th>\n",
       "      <th>ORIG_TRM</th>\n",
       "      <th>OLTV</th>\n",
       "      <th>NUM_BO</th>\n",
       "      <th>DTI</th>\n",
       "      <th>CSCORE_B</th>\n",
       "      <th>NUM_UNIT</th>\n",
       "    </tr>\n",
       "  </thead>\n",
       "  <tbody>\n",
       "    <tr>\n",
       "      <th>min</th>\n",
       "      <td>2.750</td>\n",
       "      <td>20000.000</td>\n",
       "      <td>312.000</td>\n",
       "      <td>11.000</td>\n",
       "      <td>1.000</td>\n",
       "      <td>3.000</td>\n",
       "      <td>620.000</td>\n",
       "      <td>1.000</td>\n",
       "    </tr>\n",
       "    <tr>\n",
       "      <th>max</th>\n",
       "      <td>6.000</td>\n",
       "      <td>903000.000</td>\n",
       "      <td>360.000</td>\n",
       "      <td>97.000</td>\n",
       "      <td>4.000</td>\n",
       "      <td>50.000</td>\n",
       "      <td>828.000</td>\n",
       "      <td>4.000</td>\n",
       "    </tr>\n",
       "  </tbody>\n",
       "</table>\n",
       "</div>"
      ],
      "text/plain": [
       "     ORIG_RT   ORIG_AMT  ORIG_TRM   OLTV  NUM_BO    DTI  CSCORE_B  NUM_UNIT\n",
       "min    2.750  20000.000   312.000 11.000   1.000  3.000   620.000     1.000\n",
       "max    6.000 903000.000   360.000 97.000   4.000 50.000   828.000     4.000"
      ]
     },
     "execution_count": 1593,
     "metadata": {},
     "output_type": "execute_result"
    },
    {
     "data": {
      "text/html": [
       "<div>\n",
       "<table border=\"1\" class=\"dataframe\">\n",
       "  <thead>\n",
       "    <tr style=\"text-align: right;\">\n",
       "      <th></th>\n",
       "      <th>ORIG_RT</th>\n",
       "      <th>ORIG_AMT</th>\n",
       "      <th>ORIG_TRM</th>\n",
       "      <th>OLTV</th>\n",
       "      <th>NUM_BO</th>\n",
       "      <th>DTI</th>\n",
       "      <th>CSCORE_B</th>\n",
       "      <th>NUM_UNIT</th>\n",
       "    </tr>\n",
       "  </thead>\n",
       "  <tbody>\n",
       "    <tr>\n",
       "      <th>count</th>\n",
       "      <td>5000.000</td>\n",
       "      <td>5000.000</td>\n",
       "      <td>5000.000</td>\n",
       "      <td>5000.000</td>\n",
       "      <td>5000.000</td>\n",
       "      <td>4928.000</td>\n",
       "      <td>4886.000</td>\n",
       "      <td>5000.000</td>\n",
       "    </tr>\n",
       "    <tr>\n",
       "      <th>mean</th>\n",
       "      <td>4.240</td>\n",
       "      <td>237569.000</td>\n",
       "      <td>359.933</td>\n",
       "      <td>77.494</td>\n",
       "      <td>1.445</td>\n",
       "      <td>34.610</td>\n",
       "      <td>744.300</td>\n",
       "      <td>1.039</td>\n",
       "    </tr>\n",
       "    <tr>\n",
       "      <th>std</th>\n",
       "      <td>0.349</td>\n",
       "      <td>120280.316</td>\n",
       "      <td>1.360</td>\n",
       "      <td>15.174</td>\n",
       "      <td>0.514</td>\n",
       "      <td>8.671</td>\n",
       "      <td>50.058</td>\n",
       "      <td>0.277</td>\n",
       "    </tr>\n",
       "    <tr>\n",
       "      <th>min</th>\n",
       "      <td>2.750</td>\n",
       "      <td>20000.000</td>\n",
       "      <td>312.000</td>\n",
       "      <td>11.000</td>\n",
       "      <td>1.000</td>\n",
       "      <td>3.000</td>\n",
       "      <td>620.000</td>\n",
       "      <td>1.000</td>\n",
       "    </tr>\n",
       "    <tr>\n",
       "      <th>25%</th>\n",
       "      <td>4.000</td>\n",
       "      <td>144000.000</td>\n",
       "      <td>360.000</td>\n",
       "      <td>70.000</td>\n",
       "      <td>1.000</td>\n",
       "      <td>29.000</td>\n",
       "      <td>705.000</td>\n",
       "      <td>1.000</td>\n",
       "    </tr>\n",
       "    <tr>\n",
       "      <th>50%</th>\n",
       "      <td>4.250</td>\n",
       "      <td>216500.000</td>\n",
       "      <td>360.000</td>\n",
       "      <td>80.000</td>\n",
       "      <td>1.000</td>\n",
       "      <td>36.000</td>\n",
       "      <td>754.000</td>\n",
       "      <td>1.000</td>\n",
       "    </tr>\n",
       "    <tr>\n",
       "      <th>75%</th>\n",
       "      <td>4.500</td>\n",
       "      <td>315000.000</td>\n",
       "      <td>360.000</td>\n",
       "      <td>90.000</td>\n",
       "      <td>2.000</td>\n",
       "      <td>42.000</td>\n",
       "      <td>787.000</td>\n",
       "      <td>1.000</td>\n",
       "    </tr>\n",
       "    <tr>\n",
       "      <th>max</th>\n",
       "      <td>6.000</td>\n",
       "      <td>903000.000</td>\n",
       "      <td>360.000</td>\n",
       "      <td>97.000</td>\n",
       "      <td>4.000</td>\n",
       "      <td>50.000</td>\n",
       "      <td>828.000</td>\n",
       "      <td>4.000</td>\n",
       "    </tr>\n",
       "  </tbody>\n",
       "</table>\n",
       "</div>"
      ],
      "text/plain": [
       "       ORIG_RT   ORIG_AMT  ORIG_TRM     OLTV   NUM_BO      DTI  CSCORE_B  \\\n",
       "count 5000.000   5000.000  5000.000 5000.000 5000.000 4928.000  4886.000   \n",
       "mean     4.240 237569.000   359.933   77.494    1.445   34.610   744.300   \n",
       "std      0.349 120280.316     1.360   15.174    0.514    8.671    50.058   \n",
       "min      2.750  20000.000   312.000   11.000    1.000    3.000   620.000   \n",
       "25%      4.000 144000.000   360.000   70.000    1.000   29.000   705.000   \n",
       "50%      4.250 216500.000   360.000   80.000    1.000   36.000   754.000   \n",
       "75%      4.500 315000.000   360.000   90.000    2.000   42.000   787.000   \n",
       "max      6.000 903000.000   360.000   97.000    4.000   50.000   828.000   \n",
       "\n",
       "       NUM_UNIT  \n",
       "count  5000.000  \n",
       "mean      1.039  \n",
       "std       0.277  \n",
       "min       1.000  \n",
       "25%       1.000  \n",
       "50%       1.000  \n",
       "75%       1.000  \n",
       "max       4.000  "
      ]
     },
     "execution_count": 1593,
     "metadata": {},
     "output_type": "execute_result"
    }
   ],
   "source": [
    "df.describe().loc[['min','max'],:]\n",
    "df.describe()"
   ]
  },
  {
   "cell_type": "markdown",
   "metadata": {},
   "source": [
    "## SANITY CHECK: Do the predictor max/min values look reasonable?"
   ]
  },
  {
   "cell_type": "markdown",
   "metadata": {},
   "source": [
    "The <i> Fannie Mae Single-Family Loan Performance Data Glossary </i> provides variable information, including ranges.  I look at the data's actual ranges to make sure values are not outside the ranges shown on the glossary.\n",
    "\n",
    "1. ORIG_RT appears to have reasonable min/max values (2.75,6)\n",
    "\n",
    "2. ORIG_AMT does not appear to have any unreasonable min/max values.  For instance, the benchmark\n",
    "paper found zero values for ORIG_AMT, which makes no sense, and so these records were removed.\n",
    "\n",
    "3. ORIG_TRM looks okay.\n",
    "\n",
    "4. OLTV looks okay.  Fannie Mae has stated in the \n",
    " loans whose LTVs are above 97%\n",
    "are excluded so that all data is consistent with current underwriting guidelines.  \n",
    "\n",
    "5. NUM_BO can take a value between 1-10, according to the glossary, and min/max values here are[1,6], which is therefore reasonable.\n",
    "\n",
    "6. DTI can be 1-64% according to the glossary, so this looks okay.\n",
    "\n",
    "7. CSCORE_B looks okay, since values can range from 300-850, and are blank if they fall outside this range.\n",
    "\n",
    "8. NUM_UNIT can range from 1-4, so the data looks okay."
   ]
  },
  {
   "cell_type": "markdown",
   "metadata": {},
   "source": [
    "# Missing Values Check"
   ]
  },
  {
   "cell_type": "code",
   "execution_count": 1594,
   "metadata": {
    "collapsed": false
   },
   "outputs": [
    {
     "data": {
      "text/plain": [
       "ORIG_CHN            0\n",
       "ORIG_RT             0\n",
       "ORIG_AMT            0\n",
       "ORIG_TRM            0\n",
       "ORIG_SE             0\n",
       "OLTV                0\n",
       "PURPOSE             0\n",
       "NUM_BO              0\n",
       "DTI                72\n",
       "CSCORE_B          114\n",
       "FTHB_FLG            0\n",
       "PROP_TYP            0\n",
       "NUM_UNIT            0\n",
       "OCC_STAT            0\n",
       "RELOCATION_FLG      0\n",
       "REGION              0\n",
       "default             0\n",
       "dtype: int64"
      ]
     },
     "execution_count": 1594,
     "metadata": {},
     "output_type": "execute_result"
    }
   ],
   "source": [
    "df.isnull().sum()"
   ]
  },
  {
   "cell_type": "markdown",
   "metadata": {},
   "source": [
    "# Checking Numerical Predictor Distributions for Normality"
   ]
  },
  {
   "cell_type": "code",
   "execution_count": 1595,
   "metadata": {
    "collapsed": false
   },
   "outputs": [
    {
     "data": {
      "text/plain": [
       "array([[<matplotlib.axes._subplots.AxesSubplot object at 0x1772a9a90>,\n",
       "        <matplotlib.axes._subplots.AxesSubplot object at 0x177efa128>,\n",
       "        <matplotlib.axes._subplots.AxesSubplot object at 0x177b87748>],\n",
       "       [<matplotlib.axes._subplots.AxesSubplot object at 0x177993160>,\n",
       "        <matplotlib.axes._subplots.AxesSubplot object at 0x1777cbcc0>,\n",
       "        <matplotlib.axes._subplots.AxesSubplot object at 0x1777cb470>],\n",
       "       [<matplotlib.axes._subplots.AxesSubplot object at 0x1774654a8>,\n",
       "        <matplotlib.axes._subplots.AxesSubplot object at 0x1776bd128>,\n",
       "        <matplotlib.axes._subplots.AxesSubplot object at 0x177732b38>]], dtype=object)"
      ]
     },
     "execution_count": 1595,
     "metadata": {},
     "output_type": "execute_result"
    },
    {
     "data": {
      "image/png": "[encoded data removed]",
      "text/plain": [
       "<matplotlib.figure.Figure at 0x176b817b8>"
      ]
     },
     "metadata": {},
     "output_type": "display_data"
    }
   ],
   "source": [
    "df_original.hist(xlabelsize=9)"
   ]
  },
  {
   "cell_type": "markdown",
   "metadata": {},
   "source": [
    "CSCORE_B, DTI, OLTV and ORIG_AMT have skewed distributions, so log transforms will be applied."
   ]
  },
  {
   "cell_type": "markdown",
   "metadata": {},
   "source": [
    "# Log transform skewed numeric predictors"
   ]
  },
  {
   "cell_type": "code",
   "execution_count": 1596,
   "metadata": {
    "collapsed": false
   },
   "outputs": [],
   "source": [
    "df[['CSCORE_B', 'DTI', \"OLTV\", \"ORIG_AMT\"]]=df[['CSCORE_B', 'DTI', \"OLTV\", \"ORIG_AMT\"]].apply(np.log)"
   ]
  },
  {
   "cell_type": "code",
   "execution_count": 1597,
   "metadata": {
    "collapsed": false
   },
   "outputs": [
    {
     "data": {
      "text/plain": [
       "array([[<matplotlib.axes._subplots.AxesSubplot object at 0x17773c630>,\n",
       "        <matplotlib.axes._subplots.AxesSubplot object at 0x177413dd8>,\n",
       "        <matplotlib.axes._subplots.AxesSubplot object at 0x1774089e8>],\n",
       "       [<matplotlib.axes._subplots.AxesSubplot object at 0x176f5ea90>,\n",
       "        <matplotlib.axes._subplots.AxesSubplot object at 0x1772b6be0>,\n",
       "        <matplotlib.axes._subplots.AxesSubplot object at 0x1772b61d0>],\n",
       "       [<matplotlib.axes._subplots.AxesSubplot object at 0x177274d68>,\n",
       "        <matplotlib.axes._subplots.AxesSubplot object at 0x17701fac8>,\n",
       "        <matplotlib.axes._subplots.AxesSubplot object at 0x1771390b8>]], dtype=object)"
      ]
     },
     "execution_count": 1597,
     "metadata": {},
     "output_type": "execute_result"
    },
    {
     "data": {
      "image/png": "[encoded data removed]",
      "text/plain": [
       "<matplotlib.figure.Figure at 0x17731bcc0>"
      ]
     },
     "metadata": {},
     "output_type": "display_data"
    }
   ],
   "source": [
    "df.hist()"
   ]
  },
  {
   "cell_type": "markdown",
   "metadata": {},
   "source": [
    "# Remove ORIG_TRM, which has low variance and low correlation"
   ]
  },
  {
   "cell_type": "code",
   "execution_count": 1598,
   "metadata": {
    "collapsed": false
   },
   "outputs": [],
   "source": [
    "df=df.drop('ORIG_TRM',axis=1)"
   ]
  },
  {
   "cell_type": "markdown",
   "metadata": {},
   "source": [
    "# Converting the categorical predictors"
   ]
  },
  {
   "cell_type": "code",
   "execution_count": 1599,
   "metadata": {
    "collapsed": false
   },
   "outputs": [],
   "source": [
    "dummies=pd.get_dummies(df[['ORIG_CHN','ORIG_SE','PURPOSE',\n",
    "                'FTHB_FLG','PROP_TYP','OCC_STAT','RELOCATION_FLG','REGION']],drop_first=True)\n",
    "df=pd.concat([df,dummies],axis=1)\n",
    "df=df.drop(['ORIG_CHN','ORIG_SE','PURPOSE','FTHB_FLG','PROP_TYP','OCC_STAT','RELOCATION_FLG','REGION'],axis=1)\n",
    "pickle.dump(df, open('final_dataframe.sav', 'wb'))"
   ]
  },
  {
   "cell_type": "markdown",
   "metadata": {},
   "source": [
    "# LOAD THIS ONE! \n",
    "Downsampled dataframe with only 5000 observations and all 649 defaults (loans defaulting for 3 consecutive months or more)"
   ]
  },
  {
   "cell_type": "code",
   "execution_count": 1600,
   "metadata": {
    "collapsed": false
   },
   "outputs": [],
   "source": [
    "df = pickle.load(open('final_dataframe.sav', 'rb'))"
   ]
  },
  {
   "cell_type": "markdown",
   "metadata": {},
   "source": [
    "# Parameters for 3-Fold Nested Cross Validation (3-Fold CV)"
   ]
  },
  {
   "cell_type": "code",
   "execution_count": 1583,
   "metadata": {
    "collapsed": false
   },
   "outputs": [],
   "source": [
    "X=df.drop('default',axis=1)\n",
    "y=df['default']\n",
    "smote = SMOTE(random_state=0,ratio='minority') #to upsample to get 20% minority\n",
    "median_imputer=Imputer(missing_values='NaN', strategy='median', axis=0)\n",
    "scaler=MinMaxScaler()\n",
    "base=DecisionTreeClassifier(max_depth=1, random_state=0) \n",
    "feature_selection=SelectFromModel(RandomForestClassifier(n_estimators=50, random_state=0))\n",
    "\n",
    "classifiers = [\n",
    "    DecisionTreeClassifier(random_state=0),\n",
    "    LogisticRegression(random_state=0),\n",
    "    KNeighborsClassifier(n_neighbors=5, weights='uniform', algorithm='auto', leaf_size=30, p=2, \n",
    "                      metric='minkowski', metric_params=None, n_jobs=1),\n",
    "    RandomForestClassifier(warm_start=True, oob_score=True,random_state=0,n_estimators=300),\n",
    "    svm.SVC(random_state=0,probability=True), \n",
    "    AdaBoostClassifier(base_estimator=base, n_estimators = 100, random_state=0) ,\n",
    "    GradientBoostingClassifier(random_state=0, max_features='sqrt'),\n",
    "    GaussianNB()]\n",
    "\n",
    "param=list()\n",
    "cross_val=list()\n",
    "method_names=['Decision Tree','Logistic Regression', 'K Nearest Neighbors', 'Random Forests',\n",
    "             'Support Vector Machines', 'AdaBoost', 'Gradient Boosting Classifier','Naive Bayes']\n",
    "\n",
    "param.append({\"fselect__threshold\":[1e-5,1e-4,1e-3], \"clf__max_depth\":[2,3,4,5]})\n",
    "param.append({\"fselect__threshold\":[1e-5,1e-4,1e-3],'clf__C': [10**-4, 10**-2, 10**0, 10**2, 10**4]})\n",
    "param.append({\"fselect__threshold\":[1e-5,1e-4,1e-3],'clf__n_neighbors': [3,4,5,6,7]})\n",
    "param.append({\"fselect__threshold\":[1e-5,1e-4,1e-3],'clf__max_features': ['sqrt',.2,.5,.8]})\n",
    "param.append({\"fselect__threshold\":[1e-5,1e-4,1e-3],'clf__C': [.001, .01, .1, 1, 10], \"clf__gamma\": [.001, .01, .1, 1]})\n",
    "param.append({\"fselect__threshold\":[1e-5,1e-4,1e-3],'clf__learning_rate': [.01,.1,1,2]})\n",
    "param.append({\"fselect__threshold\":[1e-5,1e-4,1e-3],\"clf__learning_rate\": [.001,.01,.1], \"clf__max_depth\":[3,4,5]})\n",
    "param.append({\"fselect__threshold\":[1e-5,1e-4,1e-3]})\n",
    "\n",
    "inner_fold = StratifiedKFold(random_state=0)\n",
    "outer_fold = StratifiedKFold(random_state=0)\n",
    "\n",
    "mean_fpr = np.linspace(0, 1, 100)\n",
    "colors=['b','g','r','y','k','c','m','orange']"
   ]
  },
  {
   "cell_type": "markdown",
   "metadata": {},
   "source": [
    "# 3-Fold Cross Validation - No Hyperparameter Tuning"
   ]
  },
  {
   "cell_type": "code",
   "execution_count": 1608,
   "metadata": {
    "collapsed": false,
    "scrolled": false
   },
   "outputs": [
    {
     "name": "stderr",
     "output_type": "stream",
     "text": [
      "/Users/Work/anaconda/envs/python3/lib/python3.6/site-packages/sklearn/metrics/classification.py:1135: UndefinedMetricWarning: Precision is ill-defined and being set to 0.0 due to no predicted samples.\n",
      "  'precision', 'predicted', average, warn_for)\n",
      "/Users/Work/anaconda/envs/python3/lib/python3.6/site-packages/sklearn/metrics/classification.py:1135: UndefinedMetricWarning: F-score is ill-defined and being set to 0.0 due to no predicted samples.\n",
      "  'precision', 'predicted', average, warn_for)\n",
      "/Users/Work/anaconda/envs/python3/lib/python3.6/site-packages/sklearn/metrics/classification.py:1135: UndefinedMetricWarning: Precision is ill-defined and being set to 0.0 due to no predicted samples.\n",
      "  'precision', 'predicted', average, warn_for)\n",
      "/Users/Work/anaconda/envs/python3/lib/python3.6/site-packages/sklearn/metrics/classification.py:1135: UndefinedMetricWarning: F-score is ill-defined and being set to 0.0 due to no predicted samples.\n",
      "  'precision', 'predicted', average, warn_for)\n",
      "/Users/Work/anaconda/envs/python3/lib/python3.6/site-packages/sklearn/metrics/classification.py:1135: UndefinedMetricWarning: Precision is ill-defined and being set to 0.0 due to no predicted samples.\n",
      "  'precision', 'predicted', average, warn_for)\n",
      "/Users/Work/anaconda/envs/python3/lib/python3.6/site-packages/sklearn/metrics/classification.py:1135: UndefinedMetricWarning: F-score is ill-defined and being set to 0.0 due to no predicted samples.\n",
      "  'precision', 'predicted', average, warn_for)\n"
     ]
    },
    {
     "data": {
      "text/html": [
       "<div>\n",
       "<table border=\"1\" class=\"dataframe\">\n",
       "  <thead>\n",
       "    <tr style=\"text-align: right;\">\n",
       "      <th></th>\n",
       "      <th>Method</th>\n",
       "      <th>AUC</th>\n",
       "      <th>Accuracy</th>\n",
       "      <th>F1 Score</th>\n",
       "      <th>Precision</th>\n",
       "      <th>Recall</th>\n",
       "    </tr>\n",
       "  </thead>\n",
       "  <tbody>\n",
       "    <tr>\n",
       "      <th>7</th>\n",
       "      <td>Naive Bayes</td>\n",
       "      <td>0.651</td>\n",
       "      <td>0.857</td>\n",
       "      <td>0.403</td>\n",
       "      <td>0.441</td>\n",
       "      <td>0.373</td>\n",
       "    </tr>\n",
       "    <tr>\n",
       "      <th>2</th>\n",
       "      <td>K Nearest Neighbors</td>\n",
       "      <td>0.595</td>\n",
       "      <td>0.862</td>\n",
       "      <td>0.306</td>\n",
       "      <td>0.441</td>\n",
       "      <td>0.236</td>\n",
       "    </tr>\n",
       "    <tr>\n",
       "      <th>0</th>\n",
       "      <td>Decision Tree</td>\n",
       "      <td>0.600</td>\n",
       "      <td>0.810</td>\n",
       "      <td>0.302</td>\n",
       "      <td>0.289</td>\n",
       "      <td>0.316</td>\n",
       "    </tr>\n",
       "    <tr>\n",
       "      <th>5</th>\n",
       "      <td>AdaBoost</td>\n",
       "      <td>0.584</td>\n",
       "      <td>0.872</td>\n",
       "      <td>0.283</td>\n",
       "      <td>0.522</td>\n",
       "      <td>0.196</td>\n",
       "    </tr>\n",
       "    <tr>\n",
       "      <th>3</th>\n",
       "      <td>Random Forests</td>\n",
       "      <td>0.584</td>\n",
       "      <td>0.868</td>\n",
       "      <td>0.281</td>\n",
       "      <td>0.489</td>\n",
       "      <td>0.200</td>\n",
       "    </tr>\n",
       "    <tr>\n",
       "      <th>6</th>\n",
       "      <td>Gradient Boosting Classifier</td>\n",
       "      <td>0.575</td>\n",
       "      <td>0.869</td>\n",
       "      <td>0.260</td>\n",
       "      <td>0.504</td>\n",
       "      <td>0.177</td>\n",
       "    </tr>\n",
       "    <tr>\n",
       "      <th>1</th>\n",
       "      <td>Logistic Regression</td>\n",
       "      <td>0.546</td>\n",
       "      <td>0.871</td>\n",
       "      <td>0.175</td>\n",
       "      <td>0.536</td>\n",
       "      <td>0.106</td>\n",
       "    </tr>\n",
       "    <tr>\n",
       "      <th>4</th>\n",
       "      <td>Support Vector Machines</td>\n",
       "      <td>0.500</td>\n",
       "      <td>0.870</td>\n",
       "      <td>0.000</td>\n",
       "      <td>0.000</td>\n",
       "      <td>0.000</td>\n",
       "    </tr>\n",
       "  </tbody>\n",
       "</table>\n",
       "</div>"
      ],
      "text/plain": [
       "                         Method   AUC  Accuracy  F1 Score  Precision  Recall\n",
       "7                   Naive Bayes 0.651     0.857     0.403      0.441   0.373\n",
       "2           K Nearest Neighbors 0.595     0.862     0.306      0.441   0.236\n",
       "0                 Decision Tree 0.600     0.810     0.302      0.289   0.316\n",
       "5                      AdaBoost 0.584     0.872     0.283      0.522   0.196\n",
       "3                Random Forests 0.584     0.868     0.281      0.489   0.200\n",
       "6  Gradient Boosting Classifier 0.575     0.869     0.260      0.504   0.177\n",
       "1           Logistic Regression 0.546     0.871     0.175      0.536   0.106\n",
       "4       Support Vector Machines 0.500     0.870     0.000      0.000   0.000"
      ]
     },
     "execution_count": 1608,
     "metadata": {},
     "output_type": "execute_result"
    }
   ],
   "source": [
    "cross_val_metrics=list()\n",
    "metrics_f1_score=list()\n",
    "\n",
    "scoring = make_scorer(f1_score)\n",
    "scoring2 = {'AUC': make_scorer(roc_auc_score),'Accuracy': make_scorer(accuracy_score),'Precision': make_scorer(precision_score), \n",
    "           'Recall': make_scorer(recall_score),'F1 Score': make_scorer(f1_score)}\n",
    "\n",
    "for k in range(len(classifiers)):\n",
    "    pipeline = Pipeline([('median_imputer',median_imputer),('scaler', scaler),\n",
    "                       ('fselect',feature_selection),\n",
    "                       ('clf', classifiers[k])])\n",
    "    cross_val_metrics.append((method_names[k],cross_validate(pipeline, X, y, cv=outer_fold, scoring = scoring2,\n",
    "                                                            return_train_score=False)))\n",
    "\n",
    "for j in range(len(cross_val_metrics)):\n",
    "    metrics1=list()\n",
    "    metrics1.append(method_names[j])\n",
    "    metrics1.append(np.mean(cross_val_metrics[j][1]['test_AUC']))\n",
    "    metrics1.append(np.mean(cross_val_metrics[j][1]['test_Accuracy']))\n",
    "    metrics1.append(np.mean(cross_val_metrics[j][1]['test_F1 Score']))\n",
    "    metrics1.append(np.mean(cross_val_metrics[j][1]['test_Precision']))\n",
    "    metrics1.append(np.mean(cross_val_metrics[j][1]['test_Recall']))\n",
    "    metrics_f1_score.append(metrics1)  \n",
    "    \n",
    "labels = ['Method','AUC','Accuracy','F1 Score','Precision','Recall']\n",
    "classifier_metrics_original=pd.DataFrame.from_records(metrics_f1_score,columns=labels)\n",
    "classifier_metrics_original.sort_values('F1 Score',ascending=False)"
   ]
  },
  {
   "cell_type": "markdown",
   "metadata": {},
   "source": [
    "# Nested 3-Fold Cross Validation - Optimizing for F1 Score - All Metrics"
   ]
  },
  {
   "cell_type": "code",
   "execution_count": 1584,
   "metadata": {
    "collapsed": false
   },
   "outputs": [
    {
     "data": {
      "text/html": [
       "<div>\n",
       "<table border=\"1\" class=\"dataframe\">\n",
       "  <thead>\n",
       "    <tr style=\"text-align: right;\">\n",
       "      <th></th>\n",
       "      <th>Method</th>\n",
       "      <th>AUC</th>\n",
       "      <th>Accuracy</th>\n",
       "      <th>F1 Score</th>\n",
       "      <th>Precision</th>\n",
       "      <th>Recall</th>\n",
       "    </tr>\n",
       "  </thead>\n",
       "  <tbody>\n",
       "    <tr>\n",
       "      <th>6</th>\n",
       "      <td>Gradient Boosting Classifier</td>\n",
       "      <td>0.730</td>\n",
       "      <td>0.777</td>\n",
       "      <td>0.437</td>\n",
       "      <td>0.326</td>\n",
       "      <td>0.667</td>\n",
       "    </tr>\n",
       "    <tr>\n",
       "      <th>5</th>\n",
       "      <td>AdaBoost</td>\n",
       "      <td>0.706</td>\n",
       "      <td>0.796</td>\n",
       "      <td>0.426</td>\n",
       "      <td>0.337</td>\n",
       "      <td>0.584</td>\n",
       "    </tr>\n",
       "    <tr>\n",
       "      <th>4</th>\n",
       "      <td>Support Vector Machines</td>\n",
       "      <td>0.730</td>\n",
       "      <td>0.740</td>\n",
       "      <td>0.417</td>\n",
       "      <td>0.294</td>\n",
       "      <td>0.718</td>\n",
       "    </tr>\n",
       "    <tr>\n",
       "      <th>1</th>\n",
       "      <td>Logistic Regression</td>\n",
       "      <td>0.727</td>\n",
       "      <td>0.743</td>\n",
       "      <td>0.416</td>\n",
       "      <td>0.295</td>\n",
       "      <td>0.706</td>\n",
       "    </tr>\n",
       "    <tr>\n",
       "      <th>0</th>\n",
       "      <td>Decision Tree</td>\n",
       "      <td>0.720</td>\n",
       "      <td>0.741</td>\n",
       "      <td>0.412</td>\n",
       "      <td>0.296</td>\n",
       "      <td>0.692</td>\n",
       "    </tr>\n",
       "    <tr>\n",
       "      <th>3</th>\n",
       "      <td>Random Forests</td>\n",
       "      <td>0.646</td>\n",
       "      <td>0.840</td>\n",
       "      <td>0.384</td>\n",
       "      <td>0.386</td>\n",
       "      <td>0.384</td>\n",
       "    </tr>\n",
       "    <tr>\n",
       "      <th>2</th>\n",
       "      <td>K Nearest Neighbors</td>\n",
       "      <td>0.610</td>\n",
       "      <td>0.711</td>\n",
       "      <td>0.297</td>\n",
       "      <td>0.218</td>\n",
       "      <td>0.474</td>\n",
       "    </tr>\n",
       "    <tr>\n",
       "      <th>7</th>\n",
       "      <td>Naive Bayes</td>\n",
       "      <td>0.623</td>\n",
       "      <td>0.477</td>\n",
       "      <td>0.294</td>\n",
       "      <td>0.180</td>\n",
       "      <td>0.821</td>\n",
       "    </tr>\n",
       "  </tbody>\n",
       "</table>\n",
       "</div>"
      ],
      "text/plain": [
       "                         Method   AUC  Accuracy  F1 Score  Precision  Recall\n",
       "6  Gradient Boosting Classifier 0.730     0.777     0.437      0.326   0.667\n",
       "5                      AdaBoost 0.706     0.796     0.426      0.337   0.584\n",
       "4       Support Vector Machines 0.730     0.740     0.417      0.294   0.718\n",
       "1           Logistic Regression 0.727     0.743     0.416      0.295   0.706\n",
       "0                 Decision Tree 0.720     0.741     0.412      0.296   0.692\n",
       "3                Random Forests 0.646     0.840     0.384      0.386   0.384\n",
       "2           K Nearest Neighbors 0.610     0.711     0.297      0.218   0.474\n",
       "7                   Naive Bayes 0.623     0.477     0.294      0.180   0.821"
      ]
     },
     "execution_count": 1584,
     "metadata": {},
     "output_type": "execute_result"
    }
   ],
   "source": [
    "cross_val_metrics=list()\n",
    "metrics_f1_score=list()\n",
    "\n",
    "scoring = make_scorer(f1_score)\n",
    "scoring2 = {'AUC': make_scorer(roc_auc_score),'Accuracy': make_scorer(accuracy_score),'Precision': make_scorer(precision_score), \n",
    "           'Recall': make_scorer(recall_score),'F1 Score': make_scorer(f1_score)}\n",
    "\n",
    "for k in range(len(classifiers)):\n",
    "    pipeline = Pipeline([('median_imputer',median_imputer),('scaler', scaler),\n",
    "                       ('fselect',feature_selection), ('smote', smote), \n",
    "                       ('clf', classifiers[k])])\n",
    "    \n",
    "    no_param=list()\n",
    "    for classifier in param[k].values(): #set 1 = k (for each param grid)\n",
    "        for param_values in classifier:  #for each param in param grid\n",
    "            no_param.append(param_values) #append that param's values \n",
    "    no_param=len(no_param)\n",
    "    \n",
    "    random_search = RandomizedSearchCV(pipeline, n_iter=no_param, param_distributions=param[k],cv = inner_fold,\n",
    "                                                                scoring=scoring,random_state=0)\n",
    "    cross_val_metrics.append((method_names[k],cross_validate(random_search, X, y, cv=outer_fold, scoring = scoring2,\n",
    "                                                            return_train_score=False)))\n",
    "\n",
    "\n",
    "for j in range(len(cross_val_metrics)):\n",
    "    metrics1=list()\n",
    "    metrics1.append(method_names[j])\n",
    "    metrics1.append(np.mean(cross_val_metrics[j][1]['test_AUC']))\n",
    "    metrics1.append(np.mean(cross_val_metrics[j][1]['test_Accuracy']))\n",
    "    metrics1.append(np.mean(cross_val_metrics[j][1]['test_F1 Score']))\n",
    "    metrics1.append(np.mean(cross_val_metrics[j][1]['test_Precision']))\n",
    "    metrics1.append(np.mean(cross_val_metrics[j][1]['test_Recall']))\n",
    "    metrics_f1_score.append(metrics1)  \n",
    "    \n",
    "labels = ['Method','AUC','Accuracy','F1 Score','Precision','Recall']\n",
    "classifier_metrics_f1_score=pd.DataFrame.from_records(metrics_f1_score,columns=labels)\n",
    "classifier_metrics_f1_score.sort_values('F1 Score',ascending=False)"
   ]
  },
  {
   "cell_type": "markdown",
   "metadata": {},
   "source": [
    "# Nested 3-Fold Cross Validation - Optimizing for AUC - All Metrics"
   ]
  },
  {
   "cell_type": "code",
   "execution_count": 947,
   "metadata": {
    "collapsed": false
   },
   "outputs": [],
   "source": [
    "cross_val_metrics=list()\n",
    "metrics=list()\n",
    "\n",
    "scoring = make_scorer(roc_auc_score)\n",
    "scoring2 = {'AUC': make_scorer(roc_auc_score),'Accuracy': make_scorer(accuracy_score),'Precision': make_scorer(precision_score), \n",
    "           'Recall': make_scorer(recall_score),'F1 Score': make_scorer(f1_score)}\n",
    "\n",
    "for k in range(len(classifiers)):\n",
    "    pipeline = Pipeline([('median_imputer',median_imputer),('scaler', scaler),\n",
    "                       ('fselect',feature_selection), ('smote', smote), \n",
    "                       ('clf', classifiers[k])])\n",
    "    \n",
    "    no_param=list()\n",
    "    for classifier in param[k].values(): #set 1 = k (for each param grid)\n",
    "        for param_values in classifier:  #for each param in param grid\n",
    "            no_param.append(param_values) #append that param's values \n",
    "    no_param=len(no_param)\n",
    "    \n",
    "\n",
    "    random_search = RandomizedSearchCV(pipeline, n_iter=no_param, param_distributions=param[k],cv = inner_fold,\n",
    "                                                                scoring=scoring,random_state=0)\n",
    "    cross_val_metrics.append((method_names[k],cross_validate(random_search, X, y, cv=outer_fold, scoring = scoring2,\n",
    "                                                            return_train_score=False)))\n",
    "\n",
    "\n",
    "for j in range(len(cross_val_metrics)):\n",
    "    metrics1=list()\n",
    "    metrics1.append(method_names[j])\n",
    "    metrics1.append(np.mean(cross_val_metrics[j][1]['test_AUC']))\n",
    "    metrics1.append(np.mean(cross_val_metrics[j][1]['test_Accuracy']))\n",
    "    metrics1.append(np.mean(cross_val_metrics[j][1]['test_F1 Score']))\n",
    "    metrics1.append(np.mean(cross_val_metrics[j][1]['test_Precision']))\n",
    "    metrics1.append(np.mean(cross_val_metrics[j][1]['test_Recall']))\n",
    "    metrics.append(metrics1)  \n",
    "    \n",
    "labels = ['Method','AUC','Accuracy','F1 Score','Precision','Recall']\n",
    "classifier_metrics=pd.DataFrame.from_records(metrics,columns=labels)"
   ]
  },
  {
   "cell_type": "code",
   "execution_count": 1054,
   "metadata": {
    "collapsed": false
   },
   "outputs": [
    {
     "data": {
      "text/html": [
       "<div>\n",
       "<table border=\"1\" class=\"dataframe\">\n",
       "  <thead>\n",
       "    <tr style=\"text-align: right;\">\n",
       "      <th></th>\n",
       "      <th>Method</th>\n",
       "      <th>AUC</th>\n",
       "      <th>Accuracy</th>\n",
       "      <th>F1 Score</th>\n",
       "      <th>Precision</th>\n",
       "      <th>Recall</th>\n",
       "    </tr>\n",
       "  </thead>\n",
       "  <tbody>\n",
       "    <tr>\n",
       "      <th>0</th>\n",
       "      <td>Decision Tree</td>\n",
       "      <td>0.718</td>\n",
       "      <td>0.739</td>\n",
       "      <td>0.409</td>\n",
       "      <td>0.293</td>\n",
       "      <td>0.690</td>\n",
       "    </tr>\n",
       "    <tr>\n",
       "      <th>1</th>\n",
       "      <td>Logistic Regression</td>\n",
       "      <td>0.727</td>\n",
       "      <td>0.743</td>\n",
       "      <td>0.416</td>\n",
       "      <td>0.296</td>\n",
       "      <td>0.704</td>\n",
       "    </tr>\n",
       "    <tr>\n",
       "      <th>2</th>\n",
       "      <td>K Nearest Neighbors</td>\n",
       "      <td>0.622</td>\n",
       "      <td>0.696</td>\n",
       "      <td>0.308</td>\n",
       "      <td>0.219</td>\n",
       "      <td>0.522</td>\n",
       "    </tr>\n",
       "    <tr>\n",
       "      <th>3</th>\n",
       "      <td>Random Forests</td>\n",
       "      <td>0.641</td>\n",
       "      <td>0.837</td>\n",
       "      <td>0.376</td>\n",
       "      <td>0.377</td>\n",
       "      <td>0.378</td>\n",
       "    </tr>\n",
       "    <tr>\n",
       "      <th>4</th>\n",
       "      <td>Support Vector Machines</td>\n",
       "      <td>0.730</td>\n",
       "      <td>0.740</td>\n",
       "      <td>0.417</td>\n",
       "      <td>0.294</td>\n",
       "      <td>0.718</td>\n",
       "    </tr>\n",
       "    <tr>\n",
       "      <th>5</th>\n",
       "      <td>AdaBoost</td>\n",
       "      <td>0.719</td>\n",
       "      <td>0.757</td>\n",
       "      <td>0.417</td>\n",
       "      <td>0.304</td>\n",
       "      <td>0.667</td>\n",
       "    </tr>\n",
       "    <tr>\n",
       "      <th>6</th>\n",
       "      <td>Gradient Boosting Classifier</td>\n",
       "      <td>0.729</td>\n",
       "      <td>0.761</td>\n",
       "      <td>0.428</td>\n",
       "      <td>0.311</td>\n",
       "      <td>0.686</td>\n",
       "    </tr>\n",
       "    <tr>\n",
       "      <th>7</th>\n",
       "      <td>Naive Bayes</td>\n",
       "      <td>0.623</td>\n",
       "      <td>0.477</td>\n",
       "      <td>0.294</td>\n",
       "      <td>0.180</td>\n",
       "      <td>0.821</td>\n",
       "    </tr>\n",
       "  </tbody>\n",
       "</table>\n",
       "</div>"
      ],
      "text/plain": [
       "                         Method   AUC  Accuracy  F1 Score  Precision  Recall\n",
       "0                 Decision Tree 0.718     0.739     0.409      0.293   0.690\n",
       "1           Logistic Regression 0.727     0.743     0.416      0.296   0.704\n",
       "2           K Nearest Neighbors 0.622     0.696     0.308      0.219   0.522\n",
       "3                Random Forests 0.641     0.837     0.376      0.377   0.378\n",
       "4       Support Vector Machines 0.730     0.740     0.417      0.294   0.718\n",
       "5                      AdaBoost 0.719     0.757     0.417      0.304   0.667\n",
       "6  Gradient Boosting Classifier 0.729     0.761     0.428      0.311   0.686\n",
       "7                   Naive Bayes 0.623     0.477     0.294      0.180   0.821"
      ]
     },
     "execution_count": 1054,
     "metadata": {},
     "output_type": "execute_result"
    }
   ],
   "source": [
    "classifier_metrics.sort_values('F1 Score',ascending=False)"
   ]
  },
  {
   "cell_type": "markdown",
   "metadata": {},
   "source": [
    "# Confusion Matrices"
   ]
  },
  {
   "cell_type": "code",
   "execution_count": 1065,
   "metadata": {
    "collapsed": false
   },
   "outputs": [
    {
     "data": {
      "text/plain": [
       "<matplotlib.text.Text at 0x178a27898>"
      ]
     },
     "execution_count": 1065,
     "metadata": {},
     "output_type": "execute_result"
    },
    {
     "data": {
      "text/plain": [
       "<matplotlib.text.Text at 0x178a3e0b8>"
      ]
     },
     "execution_count": 1065,
     "metadata": {},
     "output_type": "execute_result"
    },
    {
     "data": {
      "text/plain": [
       "<matplotlib.text.Text at 0x178ac8940>"
      ]
     },
     "execution_count": 1065,
     "metadata": {},
     "output_type": "execute_result"
    },
    {
     "data": {
      "text/plain": [
       "<matplotlib.text.Text at 0x178e7ccf8>"
      ]
     },
     "execution_count": 1065,
     "metadata": {},
     "output_type": "execute_result"
    },
    {
     "data": {
      "text/plain": [
       "<matplotlib.text.Text at 0x1796db6d8>"
      ]
     },
     "execution_count": 1065,
     "metadata": {},
     "output_type": "execute_result"
    },
    {
     "data": {
      "text/plain": [
       "<matplotlib.text.Text at 0x17cc86c50>"
      ]
     },
     "execution_count": 1065,
     "metadata": {},
     "output_type": "execute_result"
    },
    {
     "data": {
      "text/plain": [
       "<matplotlib.text.Text at 0x17d7cc518>"
      ]
     },
     "execution_count": 1065,
     "metadata": {},
     "output_type": "execute_result"
    },
    {
     "data": {
      "text/plain": [
       "<matplotlib.text.Text at 0x23f899748>"
      ]
     },
     "execution_count": 1065,
     "metadata": {},
     "output_type": "execute_result"
    },
    {
     "data": {
      "image/png": "[encoded data removed]",
      "text/plain": [
       "<matplotlib.figure.Figure at 0x178109898>"
      ]
     },
     "metadata": {},
     "output_type": "display_data"
    }
   ],
   "source": [
    "fig, axes = plt.subplots(4,2,figsize=(10,10))\n",
    "num_plots=len(classifiers)\n",
    "scoring=make_scorer(f1_score)\n",
    "\n",
    "for k in range(len(classifiers)):\n",
    "    pipeline = Pipeline([('median_imputer',median_imputer),('scaler', scaler),\n",
    "                ('fselect',feature_selection), ('smote', smote), ('clf', classifiers[k])])\n",
    "    no_param=list()\n",
    "    for classifier in param[k].values(): #set 1 = k (for each param grid)\n",
    "        for param_values in classifier:  #for each param in param grid\n",
    "            no_param.append(param_values) #append that param's values   \n",
    "    random_search = RandomizedSearchCV(pipeline, n_iter=len(no_param), param_distributions=param[k],\n",
    "                                       cv = inner_fold, scoring=scoring, random_state=0)\n",
    "   \n",
    "    i = 0  #in k-fold, each test split contains obs not in other splits, so each confusion matrix is for unique obs\n",
    "           #add all confusion matrices together to get total test confusion matrix in kfold cross validation \n",
    "    \n",
    "    for train, test in outer_fold.split(X, y):\n",
    "        optimized_pipeline = random_search.fit(X.iloc[train,:],y[train])        \n",
    "        y_pred=optimized_pipeline.predict(X.iloc[test,:])\n",
    "        cnf_matrix = confusion_matrix(y[test], y_pred)\n",
    "        if i==0:\n",
    "            total_cnf_matrix = cnf_matrix\n",
    "        else:\n",
    "            total_cnf_matrix += cnf_matrix\n",
    "        i=1\n",
    "        \n",
    "    df_cm = pd.DataFrame(total_cnf_matrix, ['N', 'P'], ['N', 'P'])\n",
    "    \n",
    "    if method_names[k]=='Decision Tree':\n",
    "        df_cm.columns.name = 'Predicted'\n",
    "        df_cm.index.name = 'Actual'\n",
    "    \n",
    "    #Plot each of the k subplots, where k is the number of classifiers\n",
    "    row = k // 2  #specify subplot row location\n",
    "    col = k % 2   #specify subplot column location \n",
    "    ax_curr = axes[row, col]\n",
    "    sns.heatmap(df_cm, annot=True, annot_kws={'size':16}, fmt='g',cmap=\"YlGnBu\",ax=ax_curr).set_title(method_names[k])\n",
    "    plt.tight_layout()"
   ]
  },
  {
   "cell_type": "markdown",
   "metadata": {},
   "source": [
    "# ROC Plots"
   ]
  },
  {
   "cell_type": "code",
   "execution_count": 949,
   "metadata": {
    "collapsed": true
   },
   "outputs": [
    {
     "data": {
      "text/plain": [
       "[<matplotlib.lines.Line2D at 0x178a6b208>]"
      ]
     },
     "execution_count": 949,
     "metadata": {},
     "output_type": "execute_result"
    },
    {
     "data": {
      "text/plain": [
       "[<matplotlib.lines.Line2D at 0x178b2b748>]"
      ]
     },
     "execution_count": 949,
     "metadata": {},
     "output_type": "execute_result"
    },
    {
     "data": {
      "text/plain": [
       "[<matplotlib.lines.Line2D at 0x178d7bf28>]"
      ]
     },
     "execution_count": 949,
     "metadata": {},
     "output_type": "execute_result"
    },
    {
     "data": {
      "text/plain": [
       "[<matplotlib.lines.Line2D at 0x178a270b8>]"
      ]
     },
     "execution_count": 949,
     "metadata": {},
     "output_type": "execute_result"
    },
    {
     "data": {
      "text/plain": [
       "[<matplotlib.lines.Line2D at 0x178f2dd68>]"
      ]
     },
     "execution_count": 949,
     "metadata": {},
     "output_type": "execute_result"
    },
    {
     "data": {
      "text/plain": [
       "[<matplotlib.lines.Line2D at 0x178a5ecc0>]"
      ]
     },
     "execution_count": 949,
     "metadata": {},
     "output_type": "execute_result"
    },
    {
     "data": {
      "text/plain": [
       "[<matplotlib.lines.Line2D at 0x178610588>]"
      ]
     },
     "execution_count": 949,
     "metadata": {},
     "output_type": "execute_result"
    },
    {
     "data": {
      "text/plain": [
       "[<matplotlib.lines.Line2D at 0x178ad5278>]"
      ]
     },
     "execution_count": 949,
     "metadata": {},
     "output_type": "execute_result"
    },
    {
     "data": {
      "text/plain": [
       "[<matplotlib.lines.Line2D at 0x178b2b7b8>]"
      ]
     },
     "execution_count": 949,
     "metadata": {},
     "output_type": "execute_result"
    },
    {
     "data": {
      "text/plain": [
       "(-0.05, 1.05)"
      ]
     },
     "execution_count": 949,
     "metadata": {},
     "output_type": "execute_result"
    },
    {
     "data": {
      "text/plain": [
       "(-0.05, 1.05)"
      ]
     },
     "execution_count": 949,
     "metadata": {},
     "output_type": "execute_result"
    },
    {
     "data": {
      "text/plain": [
       "<matplotlib.text.Text at 0x178acb588>"
      ]
     },
     "execution_count": 949,
     "metadata": {},
     "output_type": "execute_result"
    },
    {
     "data": {
      "text/plain": [
       "<matplotlib.text.Text at 0x178ac8da0>"
      ]
     },
     "execution_count": 949,
     "metadata": {},
     "output_type": "execute_result"
    },
    {
     "data": {
      "text/plain": [
       "<matplotlib.text.Text at 0x178ac8c88>"
      ]
     },
     "execution_count": 949,
     "metadata": {},
     "output_type": "execute_result"
    },
    {
     "data": {
      "text/plain": [
       "<matplotlib.legend.Legend at 0x178a4aef0>"
      ]
     },
     "execution_count": 949,
     "metadata": {},
     "output_type": "execute_result"
    },
    {
     "data": {
      "image/png": "[encoded data removed]",
      "text/plain": [
       "<matplotlib.figure.Figure at 0x178c4b2b0>"
      ]
     },
     "metadata": {},
     "output_type": "display_data"
    },
    {
     "data": {
      "text/plain": [
       "''"
      ]
     },
     "execution_count": 949,
     "metadata": {},
     "output_type": "execute_result"
    }
   ],
   "source": [
    "i = 0\n",
    "scoring=make_scorer(roc_auc_score)\n",
    "\n",
    "for k in range(len(classifiers)):\n",
    "    no_param=list()\n",
    "    pipeline = Pipeline([('median_imputer',median_imputer),('scaler', scaler),\n",
    "                    ('fselect',feature_selection), ('smote', smote), ('clf', classifiers[k])])\n",
    "    for classifier in param[k].values(): #set 1 = k (for each param grid)\n",
    "        for param_values in classifier:  #for each param in param grid\n",
    "            no_param.append(param_values) #append that param's values   \n",
    "    random_search = RandomizedSearchCV(pipeline, n_iter=len(no_param), scoring=scoring,\n",
    "                                       param_distributions=param[k],cv = inner_fold,random_state=0)\n",
    "    #n_iter runs a number of times that is the # of params so that error is not generated \n",
    "    #any no of iterations greater than # of params generates error\n",
    "    tprs = []\n",
    "    aucs = []\n",
    "    \n",
    "    for train, test in outer_fold.split(X, y):\n",
    "        optimized_pipeline = random_search.fit(X.iloc[train,:],y[train])\n",
    "        probas_ = optimized_pipeline.predict_proba(X.iloc[test,:])\n",
    "        fpr, tpr, thresholds = roc_curve(y[test], probas_[:, 1])\n",
    "        tprs.append(interp(mean_fpr, fpr, tpr))\n",
    "        tprs[-1][0] = 0.0\n",
    "        roc_auc = auc(fpr, tpr)\n",
    "        aucs.append(roc_auc)\n",
    "        #plt.plot(fpr, tpr, lw=1, alpha=0.3,label='ROC fold %d (AUC = %0.2f)' % (i, roc_auc))\n",
    "        i += 1\n",
    "    \n",
    "    mean_tpr = np.mean(tprs, axis=0)\n",
    "    mean_tpr[-1] = 1.0\n",
    "    mean_auc = auc(mean_fpr, mean_tpr) #calculated differently from roc_auc_score used in above methods\n",
    "    mean_roc_auc_score = classifier_metrics['AUC'][k] #using 3-fold cross validation results to be consistent\n",
    "    std_auc = np.std(aucs)\n",
    "    plt.plot(mean_fpr, mean_tpr, color=colors[k],\n",
    "             label=r'%s: AUC = %0.2f' % (method_names[k],mean_roc_auc_score),\n",
    "             lw=2, alpha=.8)\n",
    "\n",
    "    std_tpr = np.std(tprs, axis=0)\n",
    "    tprs_upper = np.minimum(mean_tpr + std_tpr, 1)\n",
    "    tprs_lower = np.maximum(mean_tpr - std_tpr, 0)\n",
    "    #plt.fill_between(mean_fpr, tprs_lower, tprs_upper, color='grey', alpha=.2,\n",
    "    #                label=r'$\\pm$ 1 std. dev.')\n",
    "    \n",
    "plt.plot([0, 1], [0, 1], linestyle='--', lw=2, color='r', label='Luck', alpha=.8)\n",
    "plt.xlim([-0.05, 1.05])\n",
    "plt.ylim([-0.05, 1.05])\n",
    "plt.xlabel('False Positive Rate',fontsize='x-large')\n",
    "plt.ylabel('True Positive Rate',fontsize='x-large')\n",
    "plt.title('Mean ROC',fontsize='xx-large')\n",
    "plt.legend(loc=\"lower right\",fontsize='x-large')\n",
    "plt.show()\n",
    ";"
   ]
  },
  {
   "cell_type": "markdown",
   "metadata": {},
   "source": [
    "The models are labeling too many observations as defaults, since about only 30% of the default-labeled observations are actually defaults.  The models are labeling most defaulting observations as defaults, where the best models are correctly labeling 70% of defaults as defaults.  Accuracy is typically 70-80%, meaning the models are correctly predicting an where a loan defaults or not 70-80% of the time.  \n",
    "\n",
    "The probability thresholds were not calibrated, however."
   ]
  },
  {
   "cell_type": "markdown",
   "metadata": {},
   "source": [
    "# The Benchmark Model - Logistic Regression"
   ]
  },
  {
   "cell_type": "code",
   "execution_count": 1693,
   "metadata": {
    "collapsed": true
   },
   "outputs": [],
   "source": [
    "X=df.drop('default',axis=1)\n",
    "y=df['default']\n",
    "smote = SMOTE(random_state=0,ratio='minority') #to upsample to get 20% minority\n",
    "median_imputer=Imputer(missing_values='NaN', strategy='median', axis=0)\n",
    "scaler=MinMaxScaler()\n",
    "base=DecisionTreeClassifier(max_depth=1, random_state=0) \n",
    "feature_selection=SelectFromModel(RandomForestClassifier(n_estimators=50, random_state=0))\n",
    "\n",
    "logit=LogisticRegression(random_state=0)\n",
    "\n",
    "param=list()\n",
    "cross_val=list()\n",
    "method_names='Logistic Regression'\n",
    "outer_fold = StratifiedKFold(random_state=0)\n",
    "\n",
    "mean_fpr = np.linspace(0, 1, 100)\n",
    "colors=['b','g','r','y','k','c','m','orange']"
   ]
  },
  {
   "cell_type": "code",
   "execution_count": 1700,
   "metadata": {
    "collapsed": false
   },
   "outputs": [
    {
     "data": {
      "text/html": [
       "<div>\n",
       "<table border=\"1\" class=\"dataframe\">\n",
       "  <thead>\n",
       "    <tr style=\"text-align: right;\">\n",
       "      <th></th>\n",
       "      <th>Method</th>\n",
       "      <th>AUC</th>\n",
       "      <th>Accuracy</th>\n",
       "      <th>F1 Score</th>\n",
       "      <th>Precision</th>\n",
       "      <th>Recall</th>\n",
       "    </tr>\n",
       "  </thead>\n",
       "  <tbody>\n",
       "    <tr>\n",
       "      <th>0</th>\n",
       "      <td>Logistic Regression</td>\n",
       "      <td>0.723</td>\n",
       "      <td>0.733</td>\n",
       "      <td>0.409</td>\n",
       "      <td>0.287</td>\n",
       "      <td>0.710</td>\n",
       "    </tr>\n",
       "  </tbody>\n",
       "</table>\n",
       "</div>"
      ],
      "text/plain": [
       "                Method   AUC  Accuracy  F1 Score  Precision  Recall\n",
       "0  Logistic Regression 0.723     0.733     0.409      0.287   0.710"
      ]
     },
     "execution_count": 1700,
     "metadata": {},
     "output_type": "execute_result"
    }
   ],
   "source": [
    "cross_val_metrics=list()\n",
    "metrics_logit=list()\n",
    "scoring = make_scorer(f1_score)\n",
    "scoring2 = {'AUC': make_scorer(roc_auc_score),'Accuracy': make_scorer(accuracy_score),'Precision': make_scorer(precision_score), \n",
    "           'Recall': make_scorer(recall_score),'F1 Score': make_scorer(f1_score)}\n",
    "\n",
    "\n",
    "pipeline = Pipeline([('median_imputer',median_imputer),('scaler', scaler),\n",
    "                       ('fselect',feature_selection), ('smote', smote), \n",
    "                       ('clf', logit)])\n",
    "\n",
    "cross_val_metrics.append((method_names,cross_validate(pipeline, X, y, cv=outer_fold, scoring = scoring2,\n",
    "                                                            return_train_score=False)))\n",
    "\n",
    "\n",
    "for j in range(len(cross_val_metrics)):\n",
    "    metrics1=list()\n",
    "    metrics1.append(method_names)\n",
    "    metrics1.append(np.mean(cross_val_metrics[j][1]['test_AUC']))\n",
    "    metrics1.append(np.mean(cross_val_metrics[j][1]['test_Accuracy']))\n",
    "    metrics1.append(np.mean(cross_val_metrics[j][1]['test_F1 Score']))\n",
    "    metrics1.append(np.mean(cross_val_metrics[j][1]['test_Precision']))\n",
    "    metrics1.append(np.mean(cross_val_metrics[j][1]['test_Recall']))\n",
    "    metrics_logit.append(metrics1)  \n",
    "    \n",
    "labels = ['Method','AUC','Accuracy','F1 Score','Precision','Recall']\n",
    "classifier_metrics_logit=pd.DataFrame.from_records(metrics_logit,columns=labels)\n",
    "classifier_metrics_logit.sort_values('F1 Score',ascending=False)"
   ]
  },
  {
   "cell_type": "markdown",
   "metadata": {},
   "source": [
    "# ROC Plot for Gradient Boosting - By Cross Validation Fold"
   ]
  },
  {
   "cell_type": "code",
   "execution_count": null,
   "metadata": {
    "collapsed": true
   },
   "outputs": [],
   "source": [
    "scoring2 = {'AUC': make_scorer(roc_auc_score),'Accuracy': make_scorer(accuracy_score),'Precision': make_scorer(precision_score), \n",
    "           'Recall': make_scorer(recall_score),'F1 Score': make_scorer(f1_score)}"
   ]
  },
  {
   "cell_type": "code",
   "execution_count": 1685,
   "metadata": {
    "collapsed": false
   },
   "outputs": [],
   "source": [
    "for train, test in outer_fold.split(X, y):\n",
    "    random_search = RandomizedSearchCV(pipeline, n_iter=9, param_distributions=param[0],cv = inner_fold,\n",
    "                                       scoring=scoring,random_state=0)\n",
    "    optimized_pipeline = random_search.fit(X.iloc[train,:],y[train])\n",
    "    y_pred = optimized_pipeline.predict(X.iloc[test,:])\n",
    "    \n",
    "    gbc_accuracy.append(accuracy_score(y[test],y_pred))\n",
    "    gbc_precision.append(precision_score(y[test],y_pred))\n",
    "    gbc_recall.append(recall_score(y[test],y_pred))\n",
    "    gbc_auc.append(roc_auc_score(y[test],y_pred))\n",
    "    gbc_f1score.append(f1_score(y[test],y_pred))"
   ]
  },
  {
   "cell_type": "code",
   "execution_count": 1689,
   "metadata": {
    "collapsed": false
   },
   "outputs": [
    {
     "data": {
      "text/plain": [
       "[<matplotlib.lines.Line2D at 0x2d52fd4e0>]"
      ]
     },
     "execution_count": 1689,
     "metadata": {},
     "output_type": "execute_result"
    },
    {
     "data": {
      "text/plain": [
       "[<matplotlib.lines.Line2D at 0x2d519b710>]"
      ]
     },
     "execution_count": 1689,
     "metadata": {},
     "output_type": "execute_result"
    },
    {
     "data": {
      "text/plain": [
       "[<matplotlib.lines.Line2D at 0x2d5312780>]"
      ]
     },
     "execution_count": 1689,
     "metadata": {},
     "output_type": "execute_result"
    },
    {
     "data": {
      "text/html": [
       "<div>\n",
       "<table border=\"1\" class=\"dataframe\">\n",
       "  <thead>\n",
       "    <tr style=\"text-align: right;\">\n",
       "      <th></th>\n",
       "      <th>AUC</th>\n",
       "      <th>Accuracy</th>\n",
       "      <th>F1 Score</th>\n",
       "      <th>Precision</th>\n",
       "      <th>Recall</th>\n",
       "    </tr>\n",
       "  </thead>\n",
       "  <tbody>\n",
       "    <tr>\n",
       "      <th>0</th>\n",
       "      <td>0.739</td>\n",
       "      <td>0.768</td>\n",
       "      <td>0.440</td>\n",
       "      <td>0.321</td>\n",
       "      <td>0.700</td>\n",
       "    </tr>\n",
       "    <tr>\n",
       "      <th>1</th>\n",
       "      <td>0.715</td>\n",
       "      <td>0.737</td>\n",
       "      <td>0.403</td>\n",
       "      <td>0.286</td>\n",
       "      <td>0.685</td>\n",
       "    </tr>\n",
       "    <tr>\n",
       "      <th>2</th>\n",
       "      <td>0.733</td>\n",
       "      <td>0.779</td>\n",
       "      <td>0.440</td>\n",
       "      <td>0.327</td>\n",
       "      <td>0.671</td>\n",
       "    </tr>\n",
       "  </tbody>\n",
       "</table>\n",
       "</div>"
      ],
      "text/plain": [
       "    AUC  Accuracy  F1 Score  Precision  Recall\n",
       "0 0.739     0.768     0.440      0.321   0.700\n",
       "1 0.715     0.737     0.403      0.286   0.685\n",
       "2 0.733     0.779     0.440      0.327   0.671"
      ]
     },
     "execution_count": 1689,
     "metadata": {},
     "output_type": "execute_result"
    },
    {
     "data": {
      "text/plain": [
       "[<matplotlib.lines.Line2D at 0x2d4dc9978>]"
      ]
     },
     "execution_count": 1689,
     "metadata": {},
     "output_type": "execute_result"
    },
    {
     "data": {
      "text/plain": [
       "[<matplotlib.lines.Line2D at 0x2d4eb47f0>]"
      ]
     },
     "execution_count": 1689,
     "metadata": {},
     "output_type": "execute_result"
    },
    {
     "data": {
      "text/plain": [
       "<matplotlib.collections.PolyCollection at 0x2d51a6390>"
      ]
     },
     "execution_count": 1689,
     "metadata": {},
     "output_type": "execute_result"
    },
    {
     "data": {
      "text/plain": [
       "(-0.05, 1.05)"
      ]
     },
     "execution_count": 1689,
     "metadata": {},
     "output_type": "execute_result"
    },
    {
     "data": {
      "text/plain": [
       "(-0.05, 1.05)"
      ]
     },
     "execution_count": 1689,
     "metadata": {},
     "output_type": "execute_result"
    },
    {
     "data": {
      "text/plain": [
       "<matplotlib.text.Text at 0x2d511b4e0>"
      ]
     },
     "execution_count": 1689,
     "metadata": {},
     "output_type": "execute_result"
    },
    {
     "data": {
      "text/plain": [
       "<matplotlib.text.Text at 0x2d51af7b8>"
      ]
     },
     "execution_count": 1689,
     "metadata": {},
     "output_type": "execute_result"
    },
    {
     "data": {
      "text/plain": [
       "<matplotlib.text.Text at 0x2d52a96a0>"
      ]
     },
     "execution_count": 1689,
     "metadata": {},
     "output_type": "execute_result"
    },
    {
     "data": {
      "text/plain": [
       "<matplotlib.legend.Legend at 0x2d5338208>"
      ]
     },
     "execution_count": 1689,
     "metadata": {},
     "output_type": "execute_result"
    },
    {
     "data": {
      "image/png": "[encoded data removed]",
      "text/plain": [
       "<matplotlib.figure.Figure at 0x2d5159fd0>"
      ]
     },
     "metadata": {},
     "output_type": "display_data"
    },
    {
     "data": {
      "text/plain": [
       "''"
      ]
     },
     "execution_count": 1689,
     "metadata": {},
     "output_type": "execute_result"
    }
   ],
   "source": [
    "tprs = []\n",
    "aucs = []\n",
    "aucs_alt = []\n",
    "mean_fpr = np.linspace(0, 1, 100)\n",
    "method='Gradient Boosting Classifier'\n",
    "scoring = make_scorer(roc_auc_score)\n",
    "\n",
    "gbc_accuracy=list()\n",
    "gbc_precision=list()\n",
    "gbc_recall=list()\n",
    "gbc_auc=list()\n",
    "gbc_f1score=list()\n",
    "\n",
    "pipeline = Pipeline([('median_imputer',median_imputer),('scaler', scaler),\n",
    "                    ('fselect',feature_selection), ('smote', smote), \n",
    "                    ('clf', GradientBoostingClassifier(random_state=0, max_features='sqrt'))])\n",
    "\n",
    "param=list()\n",
    "param.append({\"fselect__threshold\":[1e-5,1e-4,1e-3],\"clf__learning_rate\": [.001,.01,.1], \"clf__max_depth\":[3,4,5]})\n",
    "\n",
    "i = 0\n",
    "for train, test in outer_fold.split(X, y):\n",
    "    random_search = RandomizedSearchCV(pipeline, n_iter=9, param_distributions=param[0],cv = inner_fold,\n",
    "                                       scoring=scoring,random_state=0)\n",
    "    optimized_pipeline = random_search.fit(X.iloc[train,:],y[train])\n",
    "    y_pred = optimized_pipeline.predict(X.iloc[test,:])\n",
    "    \n",
    "    gbc_accuracy.append(accuracy_score(y[test],y_pred))\n",
    "    gbc_precision.append(precision_score(y[test],y_pred))\n",
    "    gbc_recall.append(recall_score(y[test],y_pred))\n",
    "    gbc_auc.append(roc_auc_score(y[test],y_pred))\n",
    "    gbc_f1score.append(f1_score(y[test],y_pred))\n",
    "    \n",
    "    probas_ = optimized_pipeline.predict_proba(X.iloc[test,:])\n",
    "    fpr, tpr, thresholds = roc_curve(y[test], probas_[:, 1])\n",
    "    tprs.append(interp(mean_fpr, fpr, tpr))\n",
    "    tprs[-1][0] = 0.0\n",
    "    roc_auc = auc(fpr, tpr)\n",
    "    aucs.append(roc_auc)\n",
    "    auc_alt = roc_auc_score(y[test],y_pred)\n",
    "    aucs_alt.append(auc_alt)\n",
    "    plt.plot(fpr, tpr, lw=1, alpha=0.3, label='ROC fold %d (AUC = %0.2f)' % (i, auc_alt))\n",
    "    i += 1\n",
    "\n",
    "gbc_metrics=pd.DataFrame({'Accuracy':gbc_accuracy,'Precision':gbc_precision,\n",
    "              'Recall':gbc_recall,'AUC':gbc_auc,'F1 Score':gbc_f1score})    \n",
    "gbc_metrics\n",
    "\n",
    "plt.plot([0, 1], [0, 1], linestyle='--', lw=2, color='r',label='Luck', alpha=.8)\n",
    "\n",
    "mean_tpr = np.mean(tprs, axis=0)\n",
    "mean_tpr[-1] = 1.0\n",
    "mean_auc = auc(mean_fpr, mean_tpr)\n",
    "mean_auc_alt = np.mean(aucs_alt)\n",
    "std_auc = np.std(aucs)\n",
    "std_auc_alt = np.std(aucs_alt)\n",
    "plt.plot(mean_fpr, mean_tpr, color='b',\n",
    "label=r'%s: (AUC = %0.2f $\\pm$ %0.2f)' % ('Gradient Boosting',mean_auc_alt, std_auc_alt),lw=3, alpha=.8)\n",
    "\n",
    "std_tpr = np.std(tprs, axis=0)\n",
    "tprs_upper = np.minimum(mean_tpr + std_tpr, 1)\n",
    "tprs_lower = np.maximum(mean_tpr - std_tpr, 0)\n",
    "plt.fill_between(mean_fpr, tprs_lower, tprs_upper, color='grey', alpha=.2, label=r'$\\pm$ 1 std. dev.')\n",
    "\n",
    "plt.xlim([-0.05, 1.05])\n",
    "plt.ylim([-0.05, 1.05])\n",
    "plt.xlabel('False Positive Rate',fontsize='x-large')\n",
    "plt.ylabel('True Positive Rate',fontsize='x-large')\n",
    "plt.title('Receiver Operating Characteristic Curve',fontsize='xx-large')\n",
    "plt.legend(loc=\"lower right\",fontsize='xx-large')\n",
    "plt.show()\n",
    ";"
   ]
  },
  {
   "cell_type": "markdown",
   "metadata": {},
   "source": [
    "# Variable Importances"
   ]
  },
  {
   "cell_type": "code",
   "execution_count": 1429,
   "metadata": {
    "collapsed": false
   },
   "outputs": [],
   "source": [
    "smote = SMOTE(random_state=0,ratio='minority') #to upsample to get 20% minority\n",
    "median_imputer=Imputer(missing_values='NaN', strategy='median', axis=0)\n",
    "scaler=MinMaxScaler()\n",
    "base=DecisionTreeClassifier(max_depth=1, random_state=0) \n",
    "feature_selection=SelectFromModel(RandomForestClassifier(n_estimators=50, random_state=0))\n",
    "\n",
    "X2=pd.DataFrame(median_imputer.fit_transform(X),columns=X.columns)\n",
    "X2=pd.DataFrame(scaler.fit_transform(X2),columns=X.columns)\n",
    "X2,y2=pd.DataFrame(smote.fit_sample(X2,y)[0]),smote.fit_sample(X2,y)[1]"
   ]
  },
  {
   "cell_type": "code",
   "execution_count": 1196,
   "metadata": {
    "collapsed": false
   },
   "outputs": [
    {
     "data": {
      "text/plain": [
       "<matplotlib.axes._subplots.AxesSubplot at 0x176ea0c50>"
      ]
     },
     "execution_count": 1196,
     "metadata": {},
     "output_type": "execute_result"
    },
    {
     "data": {
      "image/png": "[encoded data removed]",
      "text/plain": [
       "<matplotlib.figure.Figure at 0x176ea53c8>"
      ]
     },
     "metadata": {},
     "output_type": "display_data"
    }
   ],
   "source": [
    "folds = StratifiedKFold(random_state=0,n_splits=5)\n",
    "rf=RandomForestClassifier(warm_start=True, oob_score=True,random_state=0,n_estimators=300)\n",
    "pipeline_rf = Pipeline([('median_imputer',median_imputer),('scaler', scaler),\n",
    "                        ('smote', smote), ('clf', rf)])\n",
    "feat_imp=list()\n",
    "\n",
    "fitted_rf=pipeline_rf.fit(X,y)\n",
    "feat_imp=pd.Series(fitted_rf.named_steps.clf.feature_importances_, index=X.columns).sort_values(ascending=True)\n",
    "feat_imp.plot(kind='barh', title='Feature importance')"
   ]
  },
  {
   "cell_type": "code",
   "execution_count": 1197,
   "metadata": {
    "collapsed": false
   },
   "outputs": [
    {
     "data": {
      "text/plain": [
       "array(['ORIG_RT', 'NUM_BO', 'CSCORE_B', 'NUM_UNIT', 'ORIG_CHN_C',\n",
       "       'ORIG_SE_Spring', 'PROP_TYP_SF', 'OCC_STAT_S', 'RELOCATION_FLG_Y',\n",
       "       'REGION_West'], dtype=object)"
      ]
     },
     "execution_count": 1197,
     "metadata": {},
     "output_type": "execute_result"
    },
    {
     "data": {
      "text/plain": [
       "<matplotlib.axes._subplots.AxesSubplot at 0x176e65908>"
      ]
     },
     "execution_count": 1197,
     "metadata": {},
     "output_type": "execute_result"
    },
    {
     "data": {
      "image/png": "[encoded data removed]",
      "text/plain": [
       "<matplotlib.figure.Figure at 0x176ea5c50>"
      ]
     },
     "metadata": {},
     "output_type": "display_data"
    }
   ],
   "source": [
    "SelectK = SelectKBest(score_func=chi2, k=10)\n",
    "pipeline_SelectK = Pipeline([('median_imputer',median_imputer),('scaler', scaler),\n",
    "                             ('smote', smote), ('clf', SelectK)])\n",
    "fitted_SelectK=pipeline_SelectK.fit(X,y)\n",
    "X.columns[fitted_SelectK.named_steps.clf.get_support()].values\n",
    "\n",
    "SelectK_imp = pd.Series(fitted_SelectK.named_steps.clf.scores_, index=X.columns)\n",
    "SelectK_imp.sort_values(inplace=True, ascending=True)\n",
    "SelectK_imp.plot(kind='barh', title='Feature importance')"
   ]
  },
  {
   "cell_type": "markdown",
   "metadata": {},
   "source": [
    "## Recursive Feature Elimination"
   ]
  },
  {
   "cell_type": "code",
   "execution_count": 784,
   "metadata": {
    "collapsed": false
   },
   "outputs": [
    {
     "data": {
      "text/html": [
       "<div>\n",
       "<table border=\"1\" class=\"dataframe\">\n",
       "  <thead>\n",
       "    <tr style=\"text-align: right;\">\n",
       "      <th></th>\n",
       "      <th>Predictor</th>\n",
       "      <th>Ranking</th>\n",
       "    </tr>\n",
       "  </thead>\n",
       "  <tbody>\n",
       "    <tr>\n",
       "      <th>0</th>\n",
       "      <td>ORIG_RT</td>\n",
       "      <td>1</td>\n",
       "    </tr>\n",
       "    <tr>\n",
       "      <th>21</th>\n",
       "      <td>RELOCATION_FLG_Y</td>\n",
       "      <td>1</td>\n",
       "    </tr>\n",
       "    <tr>\n",
       "      <th>2</th>\n",
       "      <td>OLTV</td>\n",
       "      <td>1</td>\n",
       "    </tr>\n",
       "    <tr>\n",
       "      <th>3</th>\n",
       "      <td>NUM_BO</td>\n",
       "      <td>1</td>\n",
       "    </tr>\n",
       "    <tr>\n",
       "      <th>5</th>\n",
       "      <td>CSCORE_B</td>\n",
       "      <td>1</td>\n",
       "    </tr>\n",
       "    <tr>\n",
       "      <th>6</th>\n",
       "      <td>NUM_UNIT</td>\n",
       "      <td>2</td>\n",
       "    </tr>\n",
       "    <tr>\n",
       "      <th>4</th>\n",
       "      <td>DTI</td>\n",
       "      <td>3</td>\n",
       "    </tr>\n",
       "    <tr>\n",
       "      <th>15</th>\n",
       "      <td>PROP_TYP_CP</td>\n",
       "      <td>4</td>\n",
       "    </tr>\n",
       "    <tr>\n",
       "      <th>10</th>\n",
       "      <td>ORIG_SE_Summer</td>\n",
       "      <td>5</td>\n",
       "    </tr>\n",
       "    <tr>\n",
       "      <th>19</th>\n",
       "      <td>OCC_STAT_P</td>\n",
       "      <td>6</td>\n",
       "    </tr>\n",
       "    <tr>\n",
       "      <th>20</th>\n",
       "      <td>OCC_STAT_S</td>\n",
       "      <td>7</td>\n",
       "    </tr>\n",
       "    <tr>\n",
       "      <th>18</th>\n",
       "      <td>PROP_TYP_SF</td>\n",
       "      <td>8</td>\n",
       "    </tr>\n",
       "    <tr>\n",
       "      <th>17</th>\n",
       "      <td>PROP_TYP_PU</td>\n",
       "      <td>9</td>\n",
       "    </tr>\n",
       "    <tr>\n",
       "      <th>9</th>\n",
       "      <td>ORIG_SE_Spring</td>\n",
       "      <td>10</td>\n",
       "    </tr>\n",
       "    <tr>\n",
       "      <th>11</th>\n",
       "      <td>ORIG_SE_Winter</td>\n",
       "      <td>11</td>\n",
       "    </tr>\n",
       "    <tr>\n",
       "      <th>13</th>\n",
       "      <td>PURPOSE_R</td>\n",
       "      <td>12</td>\n",
       "    </tr>\n",
       "    <tr>\n",
       "      <th>12</th>\n",
       "      <td>PURPOSE_P</td>\n",
       "      <td>13</td>\n",
       "    </tr>\n",
       "    <tr>\n",
       "      <th>7</th>\n",
       "      <td>ORIG_CHN_C</td>\n",
       "      <td>14</td>\n",
       "    </tr>\n",
       "    <tr>\n",
       "      <th>8</th>\n",
       "      <td>ORIG_CHN_R</td>\n",
       "      <td>15</td>\n",
       "    </tr>\n",
       "    <tr>\n",
       "      <th>22</th>\n",
       "      <td>REGION_Northeast</td>\n",
       "      <td>16</td>\n",
       "    </tr>\n",
       "    <tr>\n",
       "      <th>1</th>\n",
       "      <td>ORIG_AMT</td>\n",
       "      <td>17</td>\n",
       "    </tr>\n",
       "    <tr>\n",
       "      <th>24</th>\n",
       "      <td>REGION_West</td>\n",
       "      <td>18</td>\n",
       "    </tr>\n",
       "    <tr>\n",
       "      <th>14</th>\n",
       "      <td>FTHB_FLG_Y</td>\n",
       "      <td>19</td>\n",
       "    </tr>\n",
       "    <tr>\n",
       "      <th>23</th>\n",
       "      <td>REGION_South</td>\n",
       "      <td>20</td>\n",
       "    </tr>\n",
       "    <tr>\n",
       "      <th>16</th>\n",
       "      <td>PROP_TYP_MH</td>\n",
       "      <td>21</td>\n",
       "    </tr>\n",
       "  </tbody>\n",
       "</table>\n",
       "</div>"
      ],
      "text/plain": [
       "           Predictor  Ranking\n",
       "0            ORIG_RT        1\n",
       "21  RELOCATION_FLG_Y        1\n",
       "2               OLTV        1\n",
       "3             NUM_BO        1\n",
       "5           CSCORE_B        1\n",
       "6           NUM_UNIT        2\n",
       "4                DTI        3\n",
       "15       PROP_TYP_CP        4\n",
       "10    ORIG_SE_Summer        5\n",
       "19        OCC_STAT_P        6\n",
       "20        OCC_STAT_S        7\n",
       "18       PROP_TYP_SF        8\n",
       "17       PROP_TYP_PU        9\n",
       "9     ORIG_SE_Spring       10\n",
       "11    ORIG_SE_Winter       11\n",
       "13         PURPOSE_R       12\n",
       "12         PURPOSE_P       13\n",
       "7         ORIG_CHN_C       14\n",
       "8         ORIG_CHN_R       15\n",
       "22  REGION_Northeast       16\n",
       "1           ORIG_AMT       17\n",
       "24       REGION_West       18\n",
       "14        FTHB_FLG_Y       19\n",
       "23      REGION_South       20\n",
       "16       PROP_TYP_MH       21"
      ]
     },
     "execution_count": 784,
     "metadata": {},
     "output_type": "execute_result"
    }
   ],
   "source": [
    "from sklearn.feature_selection import RFE\n",
    "estimator = LogisticRegression(random_state=0)\n",
    "selector = RFE(estimator, 5, step=1)\n",
    "selector = selector.fit(X2, y2)\n",
    "pd.DataFrame({'Predictor':X.columns,'Ranking':selector.ranking_}).sort_values('Ranking')"
   ]
  },
  {
   "cell_type": "code",
   "execution_count": 785,
   "metadata": {
    "collapsed": false
   },
   "outputs": [
    {
     "data": {
      "text/html": [
       "<div>\n",
       "<table border=\"1\" class=\"dataframe\">\n",
       "  <thead>\n",
       "    <tr style=\"text-align: right;\">\n",
       "      <th></th>\n",
       "      <th>Predictor</th>\n",
       "      <th>Ranking</th>\n",
       "    </tr>\n",
       "  </thead>\n",
       "  <tbody>\n",
       "    <tr>\n",
       "      <th>0</th>\n",
       "      <td>ORIG_RT</td>\n",
       "      <td>1</td>\n",
       "    </tr>\n",
       "    <tr>\n",
       "      <th>2</th>\n",
       "      <td>OLTV</td>\n",
       "      <td>1</td>\n",
       "    </tr>\n",
       "    <tr>\n",
       "      <th>3</th>\n",
       "      <td>NUM_BO</td>\n",
       "      <td>1</td>\n",
       "    </tr>\n",
       "    <tr>\n",
       "      <th>4</th>\n",
       "      <td>DTI</td>\n",
       "      <td>1</td>\n",
       "    </tr>\n",
       "    <tr>\n",
       "      <th>5</th>\n",
       "      <td>CSCORE_B</td>\n",
       "      <td>1</td>\n",
       "    </tr>\n",
       "    <tr>\n",
       "      <th>1</th>\n",
       "      <td>ORIG_AMT</td>\n",
       "      <td>2</td>\n",
       "    </tr>\n",
       "    <tr>\n",
       "      <th>18</th>\n",
       "      <td>PROP_TYP_SF</td>\n",
       "      <td>3</td>\n",
       "    </tr>\n",
       "    <tr>\n",
       "      <th>19</th>\n",
       "      <td>OCC_STAT_P</td>\n",
       "      <td>4</td>\n",
       "    </tr>\n",
       "    <tr>\n",
       "      <th>8</th>\n",
       "      <td>ORIG_CHN_R</td>\n",
       "      <td>5</td>\n",
       "    </tr>\n",
       "    <tr>\n",
       "      <th>23</th>\n",
       "      <td>REGION_South</td>\n",
       "      <td>6</td>\n",
       "    </tr>\n",
       "    <tr>\n",
       "      <th>11</th>\n",
       "      <td>ORIG_SE_Winter</td>\n",
       "      <td>7</td>\n",
       "    </tr>\n",
       "    <tr>\n",
       "      <th>12</th>\n",
       "      <td>PURPOSE_P</td>\n",
       "      <td>8</td>\n",
       "    </tr>\n",
       "    <tr>\n",
       "      <th>24</th>\n",
       "      <td>REGION_West</td>\n",
       "      <td>9</td>\n",
       "    </tr>\n",
       "    <tr>\n",
       "      <th>7</th>\n",
       "      <td>ORIG_CHN_C</td>\n",
       "      <td>10</td>\n",
       "    </tr>\n",
       "    <tr>\n",
       "      <th>14</th>\n",
       "      <td>FTHB_FLG_Y</td>\n",
       "      <td>11</td>\n",
       "    </tr>\n",
       "    <tr>\n",
       "      <th>17</th>\n",
       "      <td>PROP_TYP_PU</td>\n",
       "      <td>12</td>\n",
       "    </tr>\n",
       "    <tr>\n",
       "      <th>13</th>\n",
       "      <td>PURPOSE_R</td>\n",
       "      <td>13</td>\n",
       "    </tr>\n",
       "    <tr>\n",
       "      <th>22</th>\n",
       "      <td>REGION_Northeast</td>\n",
       "      <td>14</td>\n",
       "    </tr>\n",
       "    <tr>\n",
       "      <th>9</th>\n",
       "      <td>ORIG_SE_Spring</td>\n",
       "      <td>15</td>\n",
       "    </tr>\n",
       "    <tr>\n",
       "      <th>6</th>\n",
       "      <td>NUM_UNIT</td>\n",
       "      <td>16</td>\n",
       "    </tr>\n",
       "    <tr>\n",
       "      <th>20</th>\n",
       "      <td>OCC_STAT_S</td>\n",
       "      <td>17</td>\n",
       "    </tr>\n",
       "    <tr>\n",
       "      <th>10</th>\n",
       "      <td>ORIG_SE_Summer</td>\n",
       "      <td>18</td>\n",
       "    </tr>\n",
       "    <tr>\n",
       "      <th>21</th>\n",
       "      <td>RELOCATION_FLG_Y</td>\n",
       "      <td>19</td>\n",
       "    </tr>\n",
       "    <tr>\n",
       "      <th>16</th>\n",
       "      <td>PROP_TYP_MH</td>\n",
       "      <td>20</td>\n",
       "    </tr>\n",
       "    <tr>\n",
       "      <th>15</th>\n",
       "      <td>PROP_TYP_CP</td>\n",
       "      <td>21</td>\n",
       "    </tr>\n",
       "  </tbody>\n",
       "</table>\n",
       "</div>"
      ],
      "text/plain": [
       "           Predictor  Ranking\n",
       "0            ORIG_RT        1\n",
       "2               OLTV        1\n",
       "3             NUM_BO        1\n",
       "4                DTI        1\n",
       "5           CSCORE_B        1\n",
       "1           ORIG_AMT        2\n",
       "18       PROP_TYP_SF        3\n",
       "19        OCC_STAT_P        4\n",
       "8         ORIG_CHN_R        5\n",
       "23      REGION_South        6\n",
       "11    ORIG_SE_Winter        7\n",
       "12         PURPOSE_P        8\n",
       "24       REGION_West        9\n",
       "7         ORIG_CHN_C       10\n",
       "14        FTHB_FLG_Y       11\n",
       "17       PROP_TYP_PU       12\n",
       "13         PURPOSE_R       13\n",
       "22  REGION_Northeast       14\n",
       "9     ORIG_SE_Spring       15\n",
       "6           NUM_UNIT       16\n",
       "20        OCC_STAT_S       17\n",
       "10    ORIG_SE_Summer       18\n",
       "21  RELOCATION_FLG_Y       19\n",
       "16       PROP_TYP_MH       20\n",
       "15       PROP_TYP_CP       21"
      ]
     },
     "execution_count": 785,
     "metadata": {},
     "output_type": "execute_result"
    }
   ],
   "source": [
    "estimator = RandomForestClassifier(warm_start=True, oob_score=True,random_state=0,n_estimators=300)\n",
    "selector = RFE(estimator, 5, step=1)\n",
    "selector = selector.fit(X2, y2)\n",
    "pd.DataFrame({'Predictor':X.columns,'Ranking':selector.ranking_}).sort_values('Ranking')"
   ]
  },
  {
   "cell_type": "markdown",
   "metadata": {},
   "source": [
    "# Recursive Feature Elimination with Cross Validation"
   ]
  },
  {
   "cell_type": "markdown",
   "metadata": {},
   "source": [
    "These results appear questionable since every variable was given a 1 ranking."
   ]
  },
  {
   "cell_type": "code",
   "execution_count": 1310,
   "metadata": {
    "collapsed": true
   },
   "outputs": [
    {
     "data": {
      "text/html": [
       "<div>\n",
       "<table border=\"1\" class=\"dataframe\">\n",
       "  <thead>\n",
       "    <tr style=\"text-align: right;\">\n",
       "      <th></th>\n",
       "      <th>Predictor</th>\n",
       "      <th>Ranking</th>\n",
       "    </tr>\n",
       "  </thead>\n",
       "  <tbody>\n",
       "    <tr>\n",
       "      <th>0</th>\n",
       "      <td>ORIG_RT</td>\n",
       "      <td>1</td>\n",
       "    </tr>\n",
       "    <tr>\n",
       "      <th>22</th>\n",
       "      <td>REGION_Northeast</td>\n",
       "      <td>1</td>\n",
       "    </tr>\n",
       "    <tr>\n",
       "      <th>21</th>\n",
       "      <td>RELOCATION_FLG_Y</td>\n",
       "      <td>1</td>\n",
       "    </tr>\n",
       "    <tr>\n",
       "      <th>20</th>\n",
       "      <td>OCC_STAT_S</td>\n",
       "      <td>1</td>\n",
       "    </tr>\n",
       "    <tr>\n",
       "      <th>19</th>\n",
       "      <td>OCC_STAT_P</td>\n",
       "      <td>1</td>\n",
       "    </tr>\n",
       "    <tr>\n",
       "      <th>18</th>\n",
       "      <td>PROP_TYP_SF</td>\n",
       "      <td>1</td>\n",
       "    </tr>\n",
       "    <tr>\n",
       "      <th>17</th>\n",
       "      <td>PROP_TYP_PU</td>\n",
       "      <td>1</td>\n",
       "    </tr>\n",
       "    <tr>\n",
       "      <th>14</th>\n",
       "      <td>FTHB_FLG_Y</td>\n",
       "      <td>1</td>\n",
       "    </tr>\n",
       "    <tr>\n",
       "      <th>13</th>\n",
       "      <td>PURPOSE_R</td>\n",
       "      <td>1</td>\n",
       "    </tr>\n",
       "    <tr>\n",
       "      <th>23</th>\n",
       "      <td>REGION_South</td>\n",
       "      <td>1</td>\n",
       "    </tr>\n",
       "    <tr>\n",
       "      <th>11</th>\n",
       "      <td>ORIG_SE_Winter</td>\n",
       "      <td>1</td>\n",
       "    </tr>\n",
       "    <tr>\n",
       "      <th>12</th>\n",
       "      <td>PURPOSE_P</td>\n",
       "      <td>1</td>\n",
       "    </tr>\n",
       "    <tr>\n",
       "      <th>9</th>\n",
       "      <td>ORIG_SE_Spring</td>\n",
       "      <td>1</td>\n",
       "    </tr>\n",
       "    <tr>\n",
       "      <th>8</th>\n",
       "      <td>ORIG_CHN_R</td>\n",
       "      <td>1</td>\n",
       "    </tr>\n",
       "    <tr>\n",
       "      <th>7</th>\n",
       "      <td>ORIG_CHN_C</td>\n",
       "      <td>1</td>\n",
       "    </tr>\n",
       "    <tr>\n",
       "      <th>6</th>\n",
       "      <td>NUM_UNIT</td>\n",
       "      <td>1</td>\n",
       "    </tr>\n",
       "    <tr>\n",
       "      <th>5</th>\n",
       "      <td>CSCORE_B</td>\n",
       "      <td>1</td>\n",
       "    </tr>\n",
       "    <tr>\n",
       "      <th>4</th>\n",
       "      <td>DTI</td>\n",
       "      <td>1</td>\n",
       "    </tr>\n",
       "    <tr>\n",
       "      <th>3</th>\n",
       "      <td>NUM_BO</td>\n",
       "      <td>1</td>\n",
       "    </tr>\n",
       "    <tr>\n",
       "      <th>2</th>\n",
       "      <td>OLTV</td>\n",
       "      <td>1</td>\n",
       "    </tr>\n",
       "    <tr>\n",
       "      <th>1</th>\n",
       "      <td>ORIG_AMT</td>\n",
       "      <td>1</td>\n",
       "    </tr>\n",
       "    <tr>\n",
       "      <th>10</th>\n",
       "      <td>ORIG_SE_Summer</td>\n",
       "      <td>1</td>\n",
       "    </tr>\n",
       "    <tr>\n",
       "      <th>24</th>\n",
       "      <td>REGION_West</td>\n",
       "      <td>1</td>\n",
       "    </tr>\n",
       "    <tr>\n",
       "      <th>16</th>\n",
       "      <td>PROP_TYP_MH</td>\n",
       "      <td>2</td>\n",
       "    </tr>\n",
       "    <tr>\n",
       "      <th>15</th>\n",
       "      <td>PROP_TYP_CP</td>\n",
       "      <td>3</td>\n",
       "    </tr>\n",
       "  </tbody>\n",
       "</table>\n",
       "</div>"
      ],
      "text/plain": [
       "           Predictor  Ranking\n",
       "0            ORIG_RT        1\n",
       "22  REGION_Northeast        1\n",
       "21  RELOCATION_FLG_Y        1\n",
       "20        OCC_STAT_S        1\n",
       "19        OCC_STAT_P        1\n",
       "18       PROP_TYP_SF        1\n",
       "17       PROP_TYP_PU        1\n",
       "14        FTHB_FLG_Y        1\n",
       "13         PURPOSE_R        1\n",
       "23      REGION_South        1\n",
       "11    ORIG_SE_Winter        1\n",
       "12         PURPOSE_P        1\n",
       "9     ORIG_SE_Spring        1\n",
       "8         ORIG_CHN_R        1\n",
       "7         ORIG_CHN_C        1\n",
       "6           NUM_UNIT        1\n",
       "5           CSCORE_B        1\n",
       "4                DTI        1\n",
       "3             NUM_BO        1\n",
       "2               OLTV        1\n",
       "1           ORIG_AMT        1\n",
       "10    ORIG_SE_Summer        1\n",
       "24       REGION_West        1\n",
       "16       PROP_TYP_MH        2\n",
       "15       PROP_TYP_CP        3"
      ]
     },
     "execution_count": 1310,
     "metadata": {},
     "output_type": "execute_result"
    }
   ],
   "source": [
    "from sklearn.feature_selection import RFECV\n",
    "estimator = RandomForestClassifier(random_state=0)\n",
    "selector = RFECV(estimator, step=1)\n",
    "selector = selector.fit(X2, y2)\n",
    "pd.DataFrame({'Predictor':X.columns,'Ranking':selector.ranking_}).sort_values('Ranking')"
   ]
  },
  {
   "cell_type": "markdown",
   "metadata": {},
   "source": [
    "# Feature Relationships with the Outcome"
   ]
  },
  {
   "cell_type": "code",
   "execution_count": 1571,
   "metadata": {
    "collapsed": false
   },
   "outputs": [],
   "source": [
    "folds = StratifiedKFold(random_state=0,n_splits=5)\n",
    "logit=LogisticRegression(random_state=0)\n",
    "pipeline_logit = Pipeline([('median_imputer',median_imputer),('scaler', scaler),\n",
    "                        ('smote', smote), ('clf', logit)])\n",
    "fitted_pipeline=pipeline_logit.fit(X,y)"
   ]
  },
  {
   "cell_type": "code",
   "execution_count": 1572,
   "metadata": {
    "collapsed": true
   },
   "outputs": [
    {
     "data": {
      "text/html": [
       "<div>\n",
       "<table border=\"1\" class=\"dataframe\">\n",
       "  <thead>\n",
       "    <tr style=\"text-align: right;\">\n",
       "      <th></th>\n",
       "      <th>Coefficient</th>\n",
       "    </tr>\n",
       "  </thead>\n",
       "  <tbody>\n",
       "    <tr>\n",
       "      <th>ORIG_RT</th>\n",
       "      <td>2.843</td>\n",
       "    </tr>\n",
       "    <tr>\n",
       "      <th>DTI</th>\n",
       "      <td>2.168</td>\n",
       "    </tr>\n",
       "    <tr>\n",
       "      <th>OLTV</th>\n",
       "      <td>1.477</td>\n",
       "    </tr>\n",
       "    <tr>\n",
       "      <th>ORIG_SE_Summer</th>\n",
       "      <td>1.013</td>\n",
       "    </tr>\n",
       "    <tr>\n",
       "      <th>PROP_TYP_SF</th>\n",
       "      <td>0.803</td>\n",
       "    </tr>\n",
       "    <tr>\n",
       "      <th>OCC_STAT_P</th>\n",
       "      <td>0.637</td>\n",
       "    </tr>\n",
       "    <tr>\n",
       "      <th>OCC_STAT_S</th>\n",
       "      <td>0.455</td>\n",
       "    </tr>\n",
       "    <tr>\n",
       "      <th>PURPOSE_P</th>\n",
       "      <td>0.373</td>\n",
       "    </tr>\n",
       "    <tr>\n",
       "      <th>PURPOSE_R</th>\n",
       "      <td>0.371</td>\n",
       "    </tr>\n",
       "    <tr>\n",
       "      <th>PROP_TYP_PU</th>\n",
       "      <td>0.319</td>\n",
       "    </tr>\n",
       "    <tr>\n",
       "      <th>ORIG_CHN_C</th>\n",
       "      <td>0.292</td>\n",
       "    </tr>\n",
       "    <tr>\n",
       "      <th>ORIG_CHN_R</th>\n",
       "      <td>0.252</td>\n",
       "    </tr>\n",
       "    <tr>\n",
       "      <th>ORIG_AMT</th>\n",
       "      <td>0.165</td>\n",
       "    </tr>\n",
       "    <tr>\n",
       "      <th>PROP_TYP_MH</th>\n",
       "      <td>0.066</td>\n",
       "    </tr>\n",
       "    <tr>\n",
       "      <th>REGION_South</th>\n",
       "      <td>0.064</td>\n",
       "    </tr>\n",
       "    <tr>\n",
       "      <th>FTHB_FLG_Y</th>\n",
       "      <td>-0.112</td>\n",
       "    </tr>\n",
       "    <tr>\n",
       "      <th>REGION_West</th>\n",
       "      <td>-0.119</td>\n",
       "    </tr>\n",
       "    <tr>\n",
       "      <th>REGION_Northeast</th>\n",
       "      <td>-0.193</td>\n",
       "    </tr>\n",
       "    <tr>\n",
       "      <th>ORIG_SE_Winter</th>\n",
       "      <td>-0.341</td>\n",
       "    </tr>\n",
       "    <tr>\n",
       "      <th>ORIG_SE_Spring</th>\n",
       "      <td>-0.589</td>\n",
       "    </tr>\n",
       "    <tr>\n",
       "      <th>PROP_TYP_CP</th>\n",
       "      <td>-1.434</td>\n",
       "    </tr>\n",
       "    <tr>\n",
       "      <th>NUM_UNIT</th>\n",
       "      <td>-2.112</td>\n",
       "    </tr>\n",
       "    <tr>\n",
       "      <th>RELOCATION_FLG_Y</th>\n",
       "      <td>-2.501</td>\n",
       "    </tr>\n",
       "    <tr>\n",
       "      <th>NUM_BO</th>\n",
       "      <td>-2.694</td>\n",
       "    </tr>\n",
       "    <tr>\n",
       "      <th>CSCORE_B</th>\n",
       "      <td>-4.084</td>\n",
       "    </tr>\n",
       "  </tbody>\n",
       "</table>\n",
       "</div>"
      ],
      "text/plain": [
       "                  Coefficient\n",
       "ORIG_RT                 2.843\n",
       "DTI                     2.168\n",
       "OLTV                    1.477\n",
       "ORIG_SE_Summer          1.013\n",
       "PROP_TYP_SF             0.803\n",
       "OCC_STAT_P              0.637\n",
       "OCC_STAT_S              0.455\n",
       "PURPOSE_P               0.373\n",
       "PURPOSE_R               0.371\n",
       "PROP_TYP_PU             0.319\n",
       "ORIG_CHN_C              0.292\n",
       "ORIG_CHN_R              0.252\n",
       "ORIG_AMT                0.165\n",
       "PROP_TYP_MH             0.066\n",
       "REGION_South            0.064\n",
       "FTHB_FLG_Y             -0.112\n",
       "REGION_West            -0.119\n",
       "REGION_Northeast       -0.193\n",
       "ORIG_SE_Winter         -0.341\n",
       "ORIG_SE_Spring         -0.589\n",
       "PROP_TYP_CP            -1.434\n",
       "NUM_UNIT               -2.112\n",
       "RELOCATION_FLG_Y       -2.501\n",
       "NUM_BO                 -2.694\n",
       "CSCORE_B               -4.084"
      ]
     },
     "execution_count": 1572,
     "metadata": {},
     "output_type": "execute_result"
    },
    {
     "data": {
      "text/plain": [
       "\"\\nfeature_coefs.columns=['Log-Odds']\\nfeature_coefs['Odds Ratio']=feature_coefs['Log-Odds'].map(np.exp)\\n\\nprobs=list()\\nfor j in feature_coefs['Odds Ratio']:\\n    probs.append(j/(1+j))    \\nfeature_coefs['P(Y=1)']=probs\\nfeature_coefs.sort_values('Log-Odds',ascending=False)\\n\""
      ]
     },
     "execution_count": 1572,
     "metadata": {},
     "output_type": "execute_result"
    }
   ],
   "source": [
    "feature_coefs=pd.DataFrame(fitted_pipeline.named_steps.clf.coef_,columns=X.columns).unstack(0)\n",
    "feature_coefs=pd.DataFrame(feature_coefs)\n",
    "feature_coefs=feature_coefs.reset_index(level=1, drop=True)\n",
    "feature_coefs.columns=['Coefficient']\n",
    "feature_coefs.sort_values('Coefficient',ascending=False)\n",
    "#The below is not true because the numeric predictors are log transformed and min/max scaled\n",
    "'''\n",
    "feature_coefs.columns=['Log-Odds']\n",
    "feature_coefs['Odds Ratio']=feature_coefs['Log-Odds'].map(np.exp)\n",
    "\n",
    "probs=list()\n",
    "for j in feature_coefs['Odds Ratio']:\n",
    "    probs.append(j/(1+j))    \n",
    "feature_coefs['P(Y=1)']=probs\n",
    "feature_coefs.sort_values('Log-Odds',ascending=False)\n",
    "'''"
   ]
  },
  {
   "cell_type": "markdown",
   "metadata": {
    "collapsed": true
   },
   "source": [
    "# Building the final model"
   ]
  },
  {
   "cell_type": "code",
   "execution_count": 1633,
   "metadata": {
    "collapsed": true
   },
   "outputs": [],
   "source": [
    "method='Gradient Boosting Classifier'\n",
    "scoring = make_scorer(f1_score)\n",
    "pipeline = Pipeline([('median_imputer',median_imputer),('scaler', scaler),\n",
    "                    ('fselect',feature_selection), ('smote', smote), \n",
    "                    ('clf', GradientBoostingClassifier(random_state=0, max_features='sqrt'))])\n",
    "folds = StratifiedKFold(random_state=0)\n",
    "param = ({\"fselect__threshold\":[1e-5,1e-4,1e-3],\"clf__learning_rate\": [.001,.01,.1], \"clf__max_depth\":[3,4,5]})\n",
    "random_search = RandomizedSearchCV(pipeline, n_iter=9, param_distributions=param,cv = folds,\n",
    "                scoring=scoring,random_state=0)\n",
    "optimized_pipeline = random_search.fit(X,y)    "
   ]
  },
  {
   "cell_type": "code",
   "execution_count": 1635,
   "metadata": {
    "collapsed": false
   },
   "outputs": [
    {
     "data": {
      "text/plain": [
       "24"
      ]
     },
     "execution_count": 1635,
     "metadata": {},
     "output_type": "execute_result"
    },
    {
     "data": {
      "text/plain": [
       "{'clf__learning_rate': 0.01, 'clf__max_depth': 4, 'fselect__threshold': 0.0001}"
      ]
     },
     "execution_count": 1635,
     "metadata": {},
     "output_type": "execute_result"
    },
    {
     "data": {
      "text/plain": [
       "Index(['PROP_TYP_CP'], dtype='object')"
      ]
     },
     "execution_count": 1635,
     "metadata": {},
     "output_type": "execute_result"
    }
   ],
   "source": [
    "np.sum(random_search.best_estimator_.named_steps.fselect.get_support())\n",
    "random_search.best_params_\n",
    "X.columns[random_search.best_estimator_.named_steps.fselect.get_support()==False]"
   ]
  },
  {
   "cell_type": "markdown",
   "metadata": {},
   "source": [
    "# Freeform Visualization"
   ]
  },
  {
   "cell_type": "markdown",
   "metadata": {},
   "source": [
    "# Attempt #1 Principal Component Labels"
   ]
  },
  {
   "cell_type": "code",
   "execution_count": 1677,
   "metadata": {
    "collapsed": true
   },
   "outputs": [
    {
     "data": {
      "text/plain": [
       "<matplotlib.figure.Figure at 0x2d4ce3978>"
      ]
     },
     "execution_count": 1677,
     "metadata": {},
     "output_type": "execute_result"
    },
    {
     "data": {
      "text/plain": [
       "<matplotlib.collections.PathCollection at 0x2d4fc0710>"
      ]
     },
     "execution_count": 1677,
     "metadata": {},
     "output_type": "execute_result"
    },
    {
     "data": {
      "image/png": "[encoded data removed]",
      "text/plain": [
       "<matplotlib.figure.Figure at 0x2d4ce3978>"
      ]
     },
     "metadata": {},
     "output_type": "display_data"
    }
   ],
   "source": [
    "pca = PCA(n_components=2)\n",
    "prin_comps = pca.fit_transform(X2)\n",
    "prin_comps=pd.DataFrame(prin_comps,columns=['PC1', 'PC2'])\n",
    "\n",
    "m_features =  24\n",
    "selected_names = ['Defaults', 'Non-Defaults']\n",
    "gbc=GradientBoostingClassifier(random_state=0, max_features='sqrt',\n",
    "                              learning_rate=.01,max_depth=4)\n",
    "gbc_fitted=gbc.fit(X2,y2)\n",
    "preds=gbc_fitted.predict(X2)\n",
    "\n",
    "cvec=list()\n",
    "for j in preds:\n",
    "    if j == True:\n",
    "        cvec.append('Red')\n",
    "    else:\n",
    "        cvec.append('Blue')\n",
    "        \n",
    "plt.figure(figsize=(8,8))\n",
    "plt.scatter(prin_comps.iloc[:,0], prin_comps.iloc[:,1],c=cvec, edgecolor='', alpha=0.5)"
   ]
  }
 ],
 "metadata": {
  "kernelspec": {
   "display_name": "Python 3",
   "language": "python",
   "name": "python3"
  },
  "language_info": {
   "codemirror_mode": {
    "name": "ipython",
    "version": 3
   },
   "file_extension": ".py",
   "mimetype": "text/x-python",
   "name": "python",
   "nbconvert_exporter": "python",
   "pygments_lexer": "ipython3",
   "version": "3.6.1"
  }
 },
 "nbformat": 4,
 "nbformat_minor": 2
}
