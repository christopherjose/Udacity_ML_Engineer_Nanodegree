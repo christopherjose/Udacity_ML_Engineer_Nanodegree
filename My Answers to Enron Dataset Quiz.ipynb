{
 "cells": [
  {
   "cell_type": "markdown",
   "metadata": {},
   "source": [
    "# Answers to Udacity Quiz Questions on the Enron Dataset"
   ]
  },
  {
   "cell_type": "code",
   "execution_count": 1,
   "metadata": {
    "collapsed": true
   },
   "outputs": [],
   "source": [
    "from IPython.core.interactiveshell import InteractiveShell\n",
    "InteractiveShell.ast_node_interactivity = \"all\"\n",
    "# show all outputs of a cell (such as if df.head() and df.tail() are in the same cell)\n",
    "#default is 'last_expr'"
   ]
  },
  {
   "cell_type": "code",
   "execution_count": 5,
   "metadata": {
    "collapsed": false
   },
   "outputs": [],
   "source": [
    "import pandas as pd\n",
    "import pickle\n",
    "import scipy\n",
    "from pandasql import *\n",
    "from pandasql import sqldf"
   ]
  },
  {
   "cell_type": "code",
   "execution_count": 3,
   "metadata": {
    "collapsed": false
   },
   "outputs": [
    {
     "data": {
      "text/plain": [
       "'/Users/Work/Desktop/Work/Projects/Machine Learning Engineer Nanodegree'"
      ]
     },
     "execution_count": 3,
     "metadata": {},
     "output_type": "execute_result"
    }
   ],
   "source": [
    "os.getcwd() #use this location in loading the pickled file provided by Udacity"
   ]
  },
  {
   "cell_type": "code",
   "execution_count": 14,
   "metadata": {
    "collapsed": false
   },
   "outputs": [],
   "source": [
    "import pickle\n",
    "enron = pickle.load(open(\"/Users/Work/Desktop/Work/Projects/Machine Learning Engineer Nanodegree\\\n",
    "/ud120-projects/final_project/final_project_dataset.pkl\", \"r\"))"
   ]
  },
  {
   "cell_type": "code",
   "execution_count": 20,
   "metadata": {
    "collapsed": false
   },
   "outputs": [
    {
     "data": {
      "text/plain": [
       "146"
      ]
     },
     "execution_count": 20,
     "metadata": {},
     "output_type": "execute_result"
    }
   ],
   "source": [
    "#how many people are in the dataset?\n",
    "len(enron.keys()) "
   ]
  },
  {
   "cell_type": "code",
   "execution_count": 32,
   "metadata": {
    "collapsed": false
   },
   "outputs": [
    {
     "data": {
      "text/plain": [
       "['METTS MARK', 'BAXTER JOHN C']"
      ]
     },
     "execution_count": 32,
     "metadata": {},
     "output_type": "execute_result"
    },
    {
     "data": {
      "text/plain": [
       "(21, 21)"
      ]
     },
     "execution_count": 32,
     "metadata": {},
     "output_type": "execute_result"
    }
   ],
   "source": [
    "#how many features per person?  Let's look at the number of features for the first couple people.\n",
    "enron.keys()[:2] \n",
    "len(enron['METTS MARK']), len(enron['BAXTER JOHN C'])"
   ]
  },
  {
   "cell_type": "code",
   "execution_count": 111,
   "metadata": {
    "collapsed": false
   },
   "outputs": [
    {
     "data": {
      "text/html": [
       "<div>\n",
       "<table border=\"1\" class=\"dataframe\">\n",
       "  <thead>\n",
       "    <tr style=\"text-align: right;\">\n",
       "      <th></th>\n",
       "      <th>index</th>\n",
       "      <th>bonus</th>\n",
       "      <th>deferral_payments</th>\n",
       "      <th>deferred_income</th>\n",
       "      <th>director_fees</th>\n",
       "      <th>email_address</th>\n",
       "      <th>exercised_stock_options</th>\n",
       "      <th>expenses</th>\n",
       "      <th>from_messages</th>\n",
       "      <th>from_poi_to_this_person</th>\n",
       "      <th>...</th>\n",
       "      <th>long_term_incentive</th>\n",
       "      <th>other</th>\n",
       "      <th>poi</th>\n",
       "      <th>restricted_stock</th>\n",
       "      <th>restricted_stock_deferred</th>\n",
       "      <th>salary</th>\n",
       "      <th>shared_receipt_with_poi</th>\n",
       "      <th>to_messages</th>\n",
       "      <th>total_payments</th>\n",
       "      <th>total_stock_value</th>\n",
       "    </tr>\n",
       "  </thead>\n",
       "  <tbody>\n",
       "    <tr>\n",
       "      <th>0</th>\n",
       "      <td>ALLEN PHILLIP K</td>\n",
       "      <td>4175000</td>\n",
       "      <td>2869717</td>\n",
       "      <td>-3081055</td>\n",
       "      <td>NaN</td>\n",
       "      <td>phillip.allen@enron.com</td>\n",
       "      <td>1729541</td>\n",
       "      <td>13868</td>\n",
       "      <td>2195</td>\n",
       "      <td>47</td>\n",
       "      <td>...</td>\n",
       "      <td>304805</td>\n",
       "      <td>152</td>\n",
       "      <td>False</td>\n",
       "      <td>126027</td>\n",
       "      <td>-126027</td>\n",
       "      <td>201955</td>\n",
       "      <td>1407</td>\n",
       "      <td>2902</td>\n",
       "      <td>4484442</td>\n",
       "      <td>1729541</td>\n",
       "    </tr>\n",
       "    <tr>\n",
       "      <th>1</th>\n",
       "      <td>BADUM JAMES P</td>\n",
       "      <td>NaN</td>\n",
       "      <td>178980</td>\n",
       "      <td>NaN</td>\n",
       "      <td>NaN</td>\n",
       "      <td>NaN</td>\n",
       "      <td>257817</td>\n",
       "      <td>3486</td>\n",
       "      <td>NaN</td>\n",
       "      <td>NaN</td>\n",
       "      <td>...</td>\n",
       "      <td>NaN</td>\n",
       "      <td>NaN</td>\n",
       "      <td>False</td>\n",
       "      <td>NaN</td>\n",
       "      <td>NaN</td>\n",
       "      <td>NaN</td>\n",
       "      <td>NaN</td>\n",
       "      <td>NaN</td>\n",
       "      <td>182466</td>\n",
       "      <td>257817</td>\n",
       "    </tr>\n",
       "    <tr>\n",
       "      <th>2</th>\n",
       "      <td>BANNANTINE JAMES M</td>\n",
       "      <td>NaN</td>\n",
       "      <td>NaN</td>\n",
       "      <td>-5104</td>\n",
       "      <td>NaN</td>\n",
       "      <td>james.bannantine@enron.com</td>\n",
       "      <td>4046157</td>\n",
       "      <td>56301</td>\n",
       "      <td>29</td>\n",
       "      <td>39</td>\n",
       "      <td>...</td>\n",
       "      <td>NaN</td>\n",
       "      <td>864523</td>\n",
       "      <td>False</td>\n",
       "      <td>1757552</td>\n",
       "      <td>-560222</td>\n",
       "      <td>477</td>\n",
       "      <td>465</td>\n",
       "      <td>566</td>\n",
       "      <td>916197</td>\n",
       "      <td>5243487</td>\n",
       "    </tr>\n",
       "    <tr>\n",
       "      <th>3</th>\n",
       "      <td>BAXTER JOHN C</td>\n",
       "      <td>1200000</td>\n",
       "      <td>1295738</td>\n",
       "      <td>-1386055</td>\n",
       "      <td>NaN</td>\n",
       "      <td>NaN</td>\n",
       "      <td>6680544</td>\n",
       "      <td>11200</td>\n",
       "      <td>NaN</td>\n",
       "      <td>NaN</td>\n",
       "      <td>...</td>\n",
       "      <td>1586055</td>\n",
       "      <td>2660303</td>\n",
       "      <td>False</td>\n",
       "      <td>3942714</td>\n",
       "      <td>NaN</td>\n",
       "      <td>267102</td>\n",
       "      <td>NaN</td>\n",
       "      <td>NaN</td>\n",
       "      <td>5634343</td>\n",
       "      <td>10623258</td>\n",
       "    </tr>\n",
       "    <tr>\n",
       "      <th>4</th>\n",
       "      <td>BAY FRANKLIN R</td>\n",
       "      <td>400000</td>\n",
       "      <td>260455</td>\n",
       "      <td>-201641</td>\n",
       "      <td>NaN</td>\n",
       "      <td>frank.bay@enron.com</td>\n",
       "      <td>NaN</td>\n",
       "      <td>129142</td>\n",
       "      <td>NaN</td>\n",
       "      <td>NaN</td>\n",
       "      <td>...</td>\n",
       "      <td>NaN</td>\n",
       "      <td>69</td>\n",
       "      <td>False</td>\n",
       "      <td>145796</td>\n",
       "      <td>-82782</td>\n",
       "      <td>239671</td>\n",
       "      <td>NaN</td>\n",
       "      <td>NaN</td>\n",
       "      <td>827696</td>\n",
       "      <td>63014</td>\n",
       "    </tr>\n",
       "  </tbody>\n",
       "</table>\n",
       "<p>5 rows × 22 columns</p>\n",
       "</div>"
      ],
      "text/plain": [
       "                index    bonus deferral_payments deferred_income  \\\n",
       "0     ALLEN PHILLIP K  4175000           2869717        -3081055   \n",
       "1       BADUM JAMES P      NaN            178980             NaN   \n",
       "2  BANNANTINE JAMES M      NaN               NaN           -5104   \n",
       "3       BAXTER JOHN C  1200000           1295738        -1386055   \n",
       "4      BAY FRANKLIN R   400000            260455         -201641   \n",
       "\n",
       "  director_fees               email_address exercised_stock_options expenses  \\\n",
       "0           NaN     phillip.allen@enron.com                 1729541    13868   \n",
       "1           NaN                         NaN                  257817     3486   \n",
       "2           NaN  james.bannantine@enron.com                 4046157    56301   \n",
       "3           NaN                         NaN                 6680544    11200   \n",
       "4           NaN         frank.bay@enron.com                     NaN   129142   \n",
       "\n",
       "  from_messages from_poi_to_this_person        ...        long_term_incentive  \\\n",
       "0          2195                      47        ...                     304805   \n",
       "1           NaN                     NaN        ...                        NaN   \n",
       "2            29                      39        ...                        NaN   \n",
       "3           NaN                     NaN        ...                    1586055   \n",
       "4           NaN                     NaN        ...                        NaN   \n",
       "\n",
       "     other    poi restricted_stock restricted_stock_deferred  salary  \\\n",
       "0      152  False           126027                   -126027  201955   \n",
       "1      NaN  False              NaN                       NaN     NaN   \n",
       "2   864523  False          1757552                   -560222     477   \n",
       "3  2660303  False          3942714                       NaN  267102   \n",
       "4       69  False           145796                    -82782  239671   \n",
       "\n",
       "  shared_receipt_with_poi to_messages total_payments total_stock_value  \n",
       "0                    1407        2902        4484442           1729541  \n",
       "1                     NaN         NaN         182466            257817  \n",
       "2                     465         566         916197           5243487  \n",
       "3                     NaN         NaN        5634343          10623258  \n",
       "4                     NaN         NaN         827696             63014  \n",
       "\n",
       "[5 rows x 22 columns]"
      ]
     },
     "execution_count": 111,
     "metadata": {},
     "output_type": "execute_result"
    },
    {
     "data": {
      "text/plain": [
       "18"
      ]
     },
     "execution_count": 111,
     "metadata": {},
     "output_type": "execute_result"
    }
   ],
   "source": [
    "#Count the number of persons of interest (feature: POI)\n",
    "df=pd.DataFrame(enron).T.reset_index()\n",
    "df.head()\n",
    "df.poi.sum()"
   ]
  },
  {
   "cell_type": "code",
   "execution_count": 70,
   "metadata": {
    "collapsed": false
   },
   "outputs": [
    {
     "data": {
      "text/plain": [
       "['http://usatoday30.usatoday.com/money/industries/energy/2005-12-28-enron-participants_x.htm',\n",
       " '',\n",
       " '(y) Lay, Kenneth',\n",
       " '(y) Skilling, Jeffrey']"
      ]
     },
     "execution_count": 70,
     "metadata": {},
     "output_type": "execute_result"
    },
    {
     "data": {
      "text/plain": [
       "['Lay, Kenneth', 'Skilling, Jeffrey', 'Howard, Kevin']"
      ]
     },
     "execution_count": 70,
     "metadata": {},
     "output_type": "execute_result"
    },
    {
     "data": {
      "text/plain": [
       "35"
      ]
     },
     "execution_count": 70,
     "metadata": {},
     "output_type": "execute_result"
    }
   ],
   "source": [
    "#How many POI's were there in total (not just those contained in the dataset, but who Udacity identified as POI's?)\n",
    "file = open('/Users/Work/Desktop/Work/Projects/Machine Learning Engineer Nanodegree/\\\n",
    "ud120-projects/final_project/poi_names.txt','rt')\n",
    "txt = file.read()\n",
    "file.close()\n",
    "txt=txt.splitlines()\n",
    "txt[:4]     \n",
    "txt=txt[2:]    #remove first two entries, which aren't POI\n",
    "txt2=[]\n",
    "for j in txt:\n",
    "    txt2.append(j[4:])\n",
    "txt2[:3] #notice that the (y)/(n) markers are removed (this was not necessary to determine that there are 35 POI's)\n",
    "len(txt2)"
   ]
  },
  {
   "cell_type": "code",
   "execution_count": 112,
   "metadata": {
    "collapsed": false
   },
   "outputs": [
    {
     "data": {
      "text/plain": [
       "109    1095040\n",
       "Name: total_stock_value, dtype: object"
      ]
     },
     "execution_count": 112,
     "metadata": {},
     "output_type": "execute_result"
    }
   ],
   "source": [
    "#What is the total value of the stock belonging to James Prentice?\n",
    "df.rename(columns={'index':'person'}, inplace=True)\n",
    "df[df.person.str.contains('PRENTICE')].total_stock_value"
   ]
  },
  {
   "cell_type": "code",
   "execution_count": 114,
   "metadata": {
    "collapsed": false
   },
   "outputs": [
    {
     "data": {
      "text/plain": [
       "Index([u'person', u'bonus', u'deferral_payments', u'deferred_income',\n",
       "       u'director_fees', u'email_address', u'exercised_stock_options',\n",
       "       u'expenses', u'from_messages', u'from_poi_to_this_person',\n",
       "       u'from_this_person_to_poi', u'loan_advances', u'long_term_incentive',\n",
       "       u'other', u'poi', u'restricted_stock', u'restricted_stock_deferred',\n",
       "       u'salary', u'shared_receipt_with_poi', u'to_messages',\n",
       "       u'total_payments', u'total_stock_value'],\n",
       "      dtype='object')"
      ]
     },
     "execution_count": 114,
     "metadata": {},
     "output_type": "execute_result"
    },
    {
     "data": {
      "text/plain": [
       "26    11\n",
       "Name: from_this_person_to_poi, dtype: object"
      ]
     },
     "execution_count": 114,
     "metadata": {},
     "output_type": "execute_result"
    }
   ],
   "source": [
    "#How many email messages do we have from Wesley Colwell to persons of interest?\n",
    "df.columns #figure out which column provides us info for this question...\n",
    "df[df.person.str.contains('WESLEY')].from_this_person_to_poi "
   ]
  },
  {
   "cell_type": "code",
   "execution_count": 116,
   "metadata": {
    "collapsed": false
   },
   "outputs": [
    {
     "data": {
      "text/plain": [
       "122    19250000\n",
       "Name: exercised_stock_options, dtype: object"
      ]
     },
     "execution_count": 116,
     "metadata": {},
     "output_type": "execute_result"
    }
   ],
   "source": [
    "#What’s the value of stock options exercised by Jeffrey K Skilling?\n",
    "df[df.person.str.contains('SKILLING')].exercised_stock_options"
   ]
  },
  {
   "cell_type": "code",
   "execution_count": 144,
   "metadata": {
    "collapsed": false
   },
   "outputs": [
    {
     "data": {
      "text/html": [
       "<div>\n",
       "<table border=\"1\" class=\"dataframe\">\n",
       "  <thead>\n",
       "    <tr style=\"text-align: right;\">\n",
       "      <th></th>\n",
       "      <th>person</th>\n",
       "      <th>total_payments</th>\n",
       "    </tr>\n",
       "  </thead>\n",
       "  <tbody>\n",
       "    <tr>\n",
       "      <th>79</th>\n",
       "      <td>LAY KENNETH L</td>\n",
       "      <td>103559793</td>\n",
       "    </tr>\n",
       "  </tbody>\n",
       "</table>\n",
       "</div>"
      ],
      "text/plain": [
       "           person total_payments\n",
       "79  LAY KENNETH L      103559793"
      ]
     },
     "execution_count": 144,
     "metadata": {},
     "output_type": "execute_result"
    }
   ],
   "source": [
    "#Of these three individuals (Lay, Skilling and Fastow), who took home the most money \n",
    "#(largest value of “total_payments” feature)?  How much money did that person get?\n",
    "df[df.person.str.contains('SKILLING|LAY|FASTOW')][['person','total_payments']].sort_values('total_payments', \\\n",
    "                                                                                           ascending=False)[:1]"
   ]
  },
  {
   "cell_type": "code",
   "execution_count": 150,
   "metadata": {
    "collapsed": false
   },
   "outputs": [
    {
     "data": {
      "text/html": [
       "<div>\n",
       "<table border=\"1\" class=\"dataframe\">\n",
       "  <thead>\n",
       "    <tr style=\"text-align: right;\">\n",
       "      <th></th>\n",
       "      <th>person</th>\n",
       "      <th>bonus</th>\n",
       "      <th>deferral_payments</th>\n",
       "      <th>deferred_income</th>\n",
       "      <th>director_fees</th>\n",
       "      <th>email_address</th>\n",
       "      <th>exercised_stock_options</th>\n",
       "      <th>expenses</th>\n",
       "      <th>from_messages</th>\n",
       "      <th>from_poi_to_this_person</th>\n",
       "      <th>...</th>\n",
       "      <th>long_term_incentive</th>\n",
       "      <th>other</th>\n",
       "      <th>poi</th>\n",
       "      <th>restricted_stock</th>\n",
       "      <th>restricted_stock_deferred</th>\n",
       "      <th>salary</th>\n",
       "      <th>shared_receipt_with_poi</th>\n",
       "      <th>to_messages</th>\n",
       "      <th>total_payments</th>\n",
       "      <th>total_stock_value</th>\n",
       "    </tr>\n",
       "  </thead>\n",
       "  <tbody>\n",
       "    <tr>\n",
       "      <th>0</th>\n",
       "      <td>ALLEN PHILLIP K</td>\n",
       "      <td>4175000</td>\n",
       "      <td>2869717</td>\n",
       "      <td>-3081055</td>\n",
       "      <td>NaN</td>\n",
       "      <td>phillip.allen@enron.com</td>\n",
       "      <td>1729541</td>\n",
       "      <td>13868</td>\n",
       "      <td>2195</td>\n",
       "      <td>47</td>\n",
       "      <td>...</td>\n",
       "      <td>304805</td>\n",
       "      <td>152</td>\n",
       "      <td>False</td>\n",
       "      <td>126027</td>\n",
       "      <td>-126027</td>\n",
       "      <td>201955</td>\n",
       "      <td>1407</td>\n",
       "      <td>2902</td>\n",
       "      <td>4484442</td>\n",
       "      <td>1729541</td>\n",
       "    </tr>\n",
       "  </tbody>\n",
       "</table>\n",
       "<p>1 rows × 22 columns</p>\n",
       "</div>"
      ],
      "text/plain": [
       "            person    bonus deferral_payments deferred_income director_fees  \\\n",
       "0  ALLEN PHILLIP K  4175000           2869717        -3081055           NaN   \n",
       "\n",
       "             email_address exercised_stock_options expenses from_messages  \\\n",
       "0  phillip.allen@enron.com                 1729541    13868          2195   \n",
       "\n",
       "  from_poi_to_this_person        ...        long_term_incentive other    poi  \\\n",
       "0                      47        ...                     304805   152  False   \n",
       "\n",
       "  restricted_stock restricted_stock_deferred  salary shared_receipt_with_poi  \\\n",
       "0           126027                   -126027  201955                    1407   \n",
       "\n",
       "  to_messages total_payments total_stock_value  \n",
       "0        2902        4484442           1729541  \n",
       "\n",
       "[1 rows x 22 columns]"
      ]
     },
     "execution_count": 150,
     "metadata": {},
     "output_type": "execute_result"
    }
   ],
   "source": [
    "#How are features denoted when they are missing a value?  answer: with NaN\n",
    "df[:1]"
   ]
  },
  {
   "cell_type": "code",
   "execution_count": 165,
   "metadata": {
    "collapsed": false
   },
   "outputs": [
    {
     "data": {
      "text/plain": [
       "95"
      ]
     },
     "execution_count": 165,
     "metadata": {},
     "output_type": "execute_result"
    },
    {
     "data": {
      "text/plain": [
       "111"
      ]
     },
     "execution_count": 165,
     "metadata": {},
     "output_type": "execute_result"
    }
   ],
   "source": [
    "#How many folks in this dataset have a quantified salary? What about a known email address?\n",
    "len(df[df.salary!='NaN'].salary)\n",
    "len(df[df.email_address!='NaN'].salary)"
   ]
  },
  {
   "cell_type": "code",
   "execution_count": 176,
   "metadata": {
    "collapsed": false
   },
   "outputs": [
    {
     "data": {
      "text/plain": [
       "0.14383561643835616"
      ]
     },
     "execution_count": 176,
     "metadata": {},
     "output_type": "execute_result"
    }
   ],
   "source": [
    "#How many people in the E+F dataset (as it currently exists) have “NaN” for their total payments? \n",
    "#What percentage of people in the dataset as a whole is this?\n",
    "len(df[df.total_payments=='NaN'].total_payments)/float(len(df))"
   ]
  },
  {
   "cell_type": "code",
   "execution_count": 186,
   "metadata": {
    "collapsed": false
   },
   "outputs": [
    {
     "data": {
      "text/html": [
       "<div>\n",
       "<table border=\"1\" class=\"dataframe\">\n",
       "  <thead>\n",
       "    <tr style=\"text-align: right;\">\n",
       "      <th></th>\n",
       "      <th>poi</th>\n",
       "      <th>COUNT(*)</th>\n",
       "    </tr>\n",
       "  </thead>\n",
       "  <tbody>\n",
       "    <tr>\n",
       "      <th>0</th>\n",
       "      <td>0</td>\n",
       "      <td>21</td>\n",
       "    </tr>\n",
       "  </tbody>\n",
       "</table>\n",
       "</div>"
      ],
      "text/plain": [
       "   poi  COUNT(*)\n",
       "0    0        21"
      ]
     },
     "execution_count": 186,
     "metadata": {},
     "output_type": "execute_result"
    }
   ],
   "source": [
    "#If a machine learning algorithm were to use total_payments as a feature,\n",
    "#would you expect it to associate a “NaN” value with POIs or non-POIs? \n",
    "#answer: NaN is only associated with non_POI's.  So a NaN would be predictive of the observation being a non-POI.\n",
    "sql = lambda q: sqldf(q, globals()) \n",
    "\n",
    "q='''\n",
    "SELECT POI, COUNT(*) \n",
    "FROM df\n",
    "WHERE total_payments='NaN'\n",
    "GROUP BY POI\n",
    "'''\n",
    "sql(q)"
   ]
  }
 ],
 "metadata": {
  "kernelspec": {
   "display_name": "Python 2",
   "language": "python",
   "name": "python2"
  },
  "language_info": {
   "codemirror_mode": {
    "name": "ipython",
    "version": 2
   },
   "file_extension": ".py",
   "mimetype": "text/x-python",
   "name": "python",
   "nbconvert_exporter": "python",
   "pygments_lexer": "ipython2",
   "version": "2.7.10"
  }
 },
 "nbformat": 4,
 "nbformat_minor": 0
}
